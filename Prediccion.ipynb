{
  "cells": [
    {
      "cell_type": "markdown",
      "metadata": {
        "id": "view-in-github",
        "colab_type": "text"
      },
      "source": [
        "<a href=\"https://colab.research.google.com/github/roquearmas/IABD_DATA/blob/main/Prediccion.ipynb\" target=\"_parent\"><img src=\"https://colab.research.google.com/assets/colab-badge.svg\" alt=\"Open In Colab\"/></a>"
      ]
    },
    {
      "cell_type": "markdown",
      "metadata": {
        "id": "kr5N5jSk5Xha"
      },
      "source": [
        "# Predicción y salida del reconocimiento de acordes\n",
        "\n",
        "Este cuaderno forma parte del TFM de Jesús Roque Armas Martín sobre reconocimiento de acordes con redes convolucionales.\n",
        "\n",
        "Predice los acordes de una canción dada, mediante un modelo preentrenado en otro cuaderno."
      ]
    },
    {
      "cell_type": "markdown",
      "metadata": {
        "id": "mEiD1zJ15SRq"
      },
      "source": [
        "Importación de las librerías necesarias"
      ]
    },
    {
      "cell_type": "code",
      "execution_count": 1,
      "metadata": {
        "colab": {
          "base_uri": "https://localhost:8080/"
        },
        "id": "BF_lfGQ6D3e1",
        "outputId": "07dd74d0-c873-4b50-c8fa-ffb78ab8e674"
      },
      "outputs": [
        {
          "output_type": "stream",
          "name": "stdout",
          "text": [
            "Requirement already satisfied: librosa in /usr/local/lib/python3.10/dist-packages (0.10.2.post1)\n",
            "Requirement already satisfied: audioread>=2.1.9 in /usr/local/lib/python3.10/dist-packages (from librosa) (3.0.1)\n",
            "Requirement already satisfied: numpy!=1.22.0,!=1.22.1,!=1.22.2,>=1.20.3 in /usr/local/lib/python3.10/dist-packages (from librosa) (1.25.2)\n",
            "Requirement already satisfied: scipy>=1.2.0 in /usr/local/lib/python3.10/dist-packages (from librosa) (1.11.4)\n",
            "Requirement already satisfied: scikit-learn>=0.20.0 in /usr/local/lib/python3.10/dist-packages (from librosa) (1.2.2)\n",
            "Requirement already satisfied: joblib>=0.14 in /usr/local/lib/python3.10/dist-packages (from librosa) (1.4.2)\n",
            "Requirement already satisfied: decorator>=4.3.0 in /usr/local/lib/python3.10/dist-packages (from librosa) (4.4.2)\n",
            "Requirement already satisfied: numba>=0.51.0 in /usr/local/lib/python3.10/dist-packages (from librosa) (0.58.1)\n",
            "Requirement already satisfied: soundfile>=0.12.1 in /usr/local/lib/python3.10/dist-packages (from librosa) (0.12.1)\n",
            "Requirement already satisfied: pooch>=1.1 in /usr/local/lib/python3.10/dist-packages (from librosa) (1.8.1)\n",
            "Requirement already satisfied: soxr>=0.3.2 in /usr/local/lib/python3.10/dist-packages (from librosa) (0.3.7)\n",
            "Requirement already satisfied: typing-extensions>=4.1.1 in /usr/local/lib/python3.10/dist-packages (from librosa) (4.11.0)\n",
            "Requirement already satisfied: lazy-loader>=0.1 in /usr/local/lib/python3.10/dist-packages (from librosa) (0.4)\n",
            "Requirement already satisfied: msgpack>=1.0 in /usr/local/lib/python3.10/dist-packages (from librosa) (1.0.8)\n",
            "Requirement already satisfied: packaging in /usr/local/lib/python3.10/dist-packages (from lazy-loader>=0.1->librosa) (24.0)\n",
            "Requirement already satisfied: llvmlite<0.42,>=0.41.0dev0 in /usr/local/lib/python3.10/dist-packages (from numba>=0.51.0->librosa) (0.41.1)\n",
            "Requirement already satisfied: platformdirs>=2.5.0 in /usr/local/lib/python3.10/dist-packages (from pooch>=1.1->librosa) (4.2.2)\n",
            "Requirement already satisfied: requests>=2.19.0 in /usr/local/lib/python3.10/dist-packages (from pooch>=1.1->librosa) (2.31.0)\n",
            "Requirement already satisfied: threadpoolctl>=2.0.0 in /usr/local/lib/python3.10/dist-packages (from scikit-learn>=0.20.0->librosa) (3.5.0)\n",
            "Requirement already satisfied: cffi>=1.0 in /usr/local/lib/python3.10/dist-packages (from soundfile>=0.12.1->librosa) (1.16.0)\n",
            "Requirement already satisfied: pycparser in /usr/local/lib/python3.10/dist-packages (from cffi>=1.0->soundfile>=0.12.1->librosa) (2.22)\n",
            "Requirement already satisfied: charset-normalizer<4,>=2 in /usr/local/lib/python3.10/dist-packages (from requests>=2.19.0->pooch>=1.1->librosa) (3.3.2)\n",
            "Requirement already satisfied: idna<4,>=2.5 in /usr/local/lib/python3.10/dist-packages (from requests>=2.19.0->pooch>=1.1->librosa) (3.7)\n",
            "Requirement already satisfied: urllib3<3,>=1.21.1 in /usr/local/lib/python3.10/dist-packages (from requests>=2.19.0->pooch>=1.1->librosa) (2.0.7)\n",
            "Requirement already satisfied: certifi>=2017.4.17 in /usr/local/lib/python3.10/dist-packages (from requests>=2.19.0->pooch>=1.1->librosa) (2024.2.2)\n",
            "Requirement already satisfied: matplotlib in /usr/local/lib/python3.10/dist-packages (3.7.1)\n",
            "Requirement already satisfied: contourpy>=1.0.1 in /usr/local/lib/python3.10/dist-packages (from matplotlib) (1.2.1)\n",
            "Requirement already satisfied: cycler>=0.10 in /usr/local/lib/python3.10/dist-packages (from matplotlib) (0.12.1)\n",
            "Requirement already satisfied: fonttools>=4.22.0 in /usr/local/lib/python3.10/dist-packages (from matplotlib) (4.51.0)\n",
            "Requirement already satisfied: kiwisolver>=1.0.1 in /usr/local/lib/python3.10/dist-packages (from matplotlib) (1.4.5)\n",
            "Requirement already satisfied: numpy>=1.20 in /usr/local/lib/python3.10/dist-packages (from matplotlib) (1.25.2)\n",
            "Requirement already satisfied: packaging>=20.0 in /usr/local/lib/python3.10/dist-packages (from matplotlib) (24.0)\n",
            "Requirement already satisfied: pillow>=6.2.0 in /usr/local/lib/python3.10/dist-packages (from matplotlib) (9.4.0)\n",
            "Requirement already satisfied: pyparsing>=2.3.1 in /usr/local/lib/python3.10/dist-packages (from matplotlib) (3.1.2)\n",
            "Requirement already satisfied: python-dateutil>=2.7 in /usr/local/lib/python3.10/dist-packages (from matplotlib) (2.8.2)\n",
            "Requirement already satisfied: six>=1.5 in /usr/local/lib/python3.10/dist-packages (from python-dateutil>=2.7->matplotlib) (1.16.0)\n",
            "Requirement already satisfied: numpy in /usr/local/lib/python3.10/dist-packages (1.25.2)\n",
            "Requirement already satisfied: keras in /usr/local/lib/python3.10/dist-packages (2.15.0)\n",
            "Requirement already satisfied: opencv-python in /usr/local/lib/python3.10/dist-packages (4.8.0.76)\n",
            "Requirement already satisfied: numpy>=1.21.2 in /usr/local/lib/python3.10/dist-packages (from opencv-python) (1.25.2)\n",
            "\u001b[31mERROR: Could not find a version that satisfies the requirement PIL (from versions: none)\u001b[0m\u001b[31m\n",
            "\u001b[0m\u001b[31mERROR: No matching distribution found for PIL\u001b[0m\u001b[31m\n",
            "\u001b[0mCollecting flask_cors\n",
            "  Downloading Flask_Cors-4.0.1-py2.py3-none-any.whl (14 kB)\n",
            "Requirement already satisfied: Flask>=0.9 in /usr/local/lib/python3.10/dist-packages (from flask_cors) (2.2.5)\n",
            "Requirement already satisfied: Werkzeug>=2.2.2 in /usr/local/lib/python3.10/dist-packages (from Flask>=0.9->flask_cors) (3.0.3)\n",
            "Requirement already satisfied: Jinja2>=3.0 in /usr/local/lib/python3.10/dist-packages (from Flask>=0.9->flask_cors) (3.1.4)\n",
            "Requirement already satisfied: itsdangerous>=2.0 in /usr/local/lib/python3.10/dist-packages (from Flask>=0.9->flask_cors) (2.2.0)\n",
            "Requirement already satisfied: click>=8.0 in /usr/local/lib/python3.10/dist-packages (from Flask>=0.9->flask_cors) (8.1.7)\n",
            "Requirement already satisfied: MarkupSafe>=2.0 in /usr/local/lib/python3.10/dist-packages (from Jinja2>=3.0->Flask>=0.9->flask_cors) (2.1.5)\n",
            "Installing collected packages: flask_cors\n",
            "Successfully installed flask_cors-4.0.1\n",
            "Requirement already satisfied: keras in /usr/local/lib/python3.10/dist-packages (2.15.0)\n",
            "Requirement already satisfied: tensorflow in /usr/local/lib/python3.10/dist-packages (2.15.0)\n",
            "Requirement already satisfied: absl-py>=1.0.0 in /usr/local/lib/python3.10/dist-packages (from tensorflow) (1.4.0)\n",
            "Requirement already satisfied: astunparse>=1.6.0 in /usr/local/lib/python3.10/dist-packages (from tensorflow) (1.6.3)\n",
            "Requirement already satisfied: flatbuffers>=23.5.26 in /usr/local/lib/python3.10/dist-packages (from tensorflow) (24.3.25)\n",
            "Requirement already satisfied: gast!=0.5.0,!=0.5.1,!=0.5.2,>=0.2.1 in /usr/local/lib/python3.10/dist-packages (from tensorflow) (0.5.4)\n",
            "Requirement already satisfied: google-pasta>=0.1.1 in /usr/local/lib/python3.10/dist-packages (from tensorflow) (0.2.0)\n",
            "Requirement already satisfied: h5py>=2.9.0 in /usr/local/lib/python3.10/dist-packages (from tensorflow) (3.9.0)\n",
            "Requirement already satisfied: libclang>=13.0.0 in /usr/local/lib/python3.10/dist-packages (from tensorflow) (18.1.1)\n",
            "Requirement already satisfied: ml-dtypes~=0.2.0 in /usr/local/lib/python3.10/dist-packages (from tensorflow) (0.2.0)\n",
            "Requirement already satisfied: numpy<2.0.0,>=1.23.5 in /usr/local/lib/python3.10/dist-packages (from tensorflow) (1.25.2)\n",
            "Requirement already satisfied: opt-einsum>=2.3.2 in /usr/local/lib/python3.10/dist-packages (from tensorflow) (3.3.0)\n",
            "Requirement already satisfied: packaging in /usr/local/lib/python3.10/dist-packages (from tensorflow) (24.0)\n",
            "Requirement already satisfied: protobuf!=4.21.0,!=4.21.1,!=4.21.2,!=4.21.3,!=4.21.4,!=4.21.5,<5.0.0dev,>=3.20.3 in /usr/local/lib/python3.10/dist-packages (from tensorflow) (3.20.3)\n",
            "Requirement already satisfied: setuptools in /usr/local/lib/python3.10/dist-packages (from tensorflow) (67.7.2)\n",
            "Requirement already satisfied: six>=1.12.0 in /usr/local/lib/python3.10/dist-packages (from tensorflow) (1.16.0)\n",
            "Requirement already satisfied: termcolor>=1.1.0 in /usr/local/lib/python3.10/dist-packages (from tensorflow) (2.4.0)\n",
            "Requirement already satisfied: typing-extensions>=3.6.6 in /usr/local/lib/python3.10/dist-packages (from tensorflow) (4.11.0)\n",
            "Requirement already satisfied: wrapt<1.15,>=1.11.0 in /usr/local/lib/python3.10/dist-packages (from tensorflow) (1.14.1)\n",
            "Requirement already satisfied: tensorflow-io-gcs-filesystem>=0.23.1 in /usr/local/lib/python3.10/dist-packages (from tensorflow) (0.37.0)\n",
            "Requirement already satisfied: grpcio<2.0,>=1.24.3 in /usr/local/lib/python3.10/dist-packages (from tensorflow) (1.63.0)\n",
            "Requirement already satisfied: tensorboard<2.16,>=2.15 in /usr/local/lib/python3.10/dist-packages (from tensorflow) (2.15.2)\n",
            "Requirement already satisfied: tensorflow-estimator<2.16,>=2.15.0 in /usr/local/lib/python3.10/dist-packages (from tensorflow) (2.15.0)\n",
            "Requirement already satisfied: keras<2.16,>=2.15.0 in /usr/local/lib/python3.10/dist-packages (from tensorflow) (2.15.0)\n",
            "Requirement already satisfied: wheel<1.0,>=0.23.0 in /usr/local/lib/python3.10/dist-packages (from astunparse>=1.6.0->tensorflow) (0.43.0)\n",
            "Requirement already satisfied: google-auth<3,>=1.6.3 in /usr/local/lib/python3.10/dist-packages (from tensorboard<2.16,>=2.15->tensorflow) (2.27.0)\n",
            "Requirement already satisfied: google-auth-oauthlib<2,>=0.5 in /usr/local/lib/python3.10/dist-packages (from tensorboard<2.16,>=2.15->tensorflow) (1.2.0)\n",
            "Requirement already satisfied: markdown>=2.6.8 in /usr/local/lib/python3.10/dist-packages (from tensorboard<2.16,>=2.15->tensorflow) (3.6)\n",
            "Requirement already satisfied: requests<3,>=2.21.0 in /usr/local/lib/python3.10/dist-packages (from tensorboard<2.16,>=2.15->tensorflow) (2.31.0)\n",
            "Requirement already satisfied: tensorboard-data-server<0.8.0,>=0.7.0 in /usr/local/lib/python3.10/dist-packages (from tensorboard<2.16,>=2.15->tensorflow) (0.7.2)\n",
            "Requirement already satisfied: werkzeug>=1.0.1 in /usr/local/lib/python3.10/dist-packages (from tensorboard<2.16,>=2.15->tensorflow) (3.0.3)\n",
            "Requirement already satisfied: cachetools<6.0,>=2.0.0 in /usr/local/lib/python3.10/dist-packages (from google-auth<3,>=1.6.3->tensorboard<2.16,>=2.15->tensorflow) (5.3.3)\n",
            "Requirement already satisfied: pyasn1-modules>=0.2.1 in /usr/local/lib/python3.10/dist-packages (from google-auth<3,>=1.6.3->tensorboard<2.16,>=2.15->tensorflow) (0.4.0)\n",
            "Requirement already satisfied: rsa<5,>=3.1.4 in /usr/local/lib/python3.10/dist-packages (from google-auth<3,>=1.6.3->tensorboard<2.16,>=2.15->tensorflow) (4.9)\n",
            "Requirement already satisfied: requests-oauthlib>=0.7.0 in /usr/local/lib/python3.10/dist-packages (from google-auth-oauthlib<2,>=0.5->tensorboard<2.16,>=2.15->tensorflow) (1.3.1)\n",
            "Requirement already satisfied: charset-normalizer<4,>=2 in /usr/local/lib/python3.10/dist-packages (from requests<3,>=2.21.0->tensorboard<2.16,>=2.15->tensorflow) (3.3.2)\n",
            "Requirement already satisfied: idna<4,>=2.5 in /usr/local/lib/python3.10/dist-packages (from requests<3,>=2.21.0->tensorboard<2.16,>=2.15->tensorflow) (3.7)\n",
            "Requirement already satisfied: urllib3<3,>=1.21.1 in /usr/local/lib/python3.10/dist-packages (from requests<3,>=2.21.0->tensorboard<2.16,>=2.15->tensorflow) (2.0.7)\n",
            "Requirement already satisfied: certifi>=2017.4.17 in /usr/local/lib/python3.10/dist-packages (from requests<3,>=2.21.0->tensorboard<2.16,>=2.15->tensorflow) (2024.2.2)\n",
            "Requirement already satisfied: MarkupSafe>=2.1.1 in /usr/local/lib/python3.10/dist-packages (from werkzeug>=1.0.1->tensorboard<2.16,>=2.15->tensorflow) (2.1.5)\n",
            "Requirement already satisfied: pyasn1<0.7.0,>=0.4.6 in /usr/local/lib/python3.10/dist-packages (from pyasn1-modules>=0.2.1->google-auth<3,>=1.6.3->tensorboard<2.16,>=2.15->tensorflow) (0.6.0)\n",
            "Requirement already satisfied: oauthlib>=3.0.0 in /usr/local/lib/python3.10/dist-packages (from requests-oauthlib>=0.7.0->google-auth-oauthlib<2,>=0.5->tensorboard<2.16,>=2.15->tensorflow) (3.2.2)\n",
            "\u001b[31mERROR: Could not find a version that satisfies the requirement tkinter (from versions: none)\u001b[0m\u001b[31m\n",
            "\u001b[0m\u001b[31mERROR: No matching distribution found for tkinter\u001b[0m\u001b[31m\n",
            "\u001b[0mCollecting simpleaudio\n",
            "  Downloading simpleaudio-1.0.4.tar.gz (2.0 MB)\n",
            "\u001b[2K     \u001b[90m━━━━━━━━━━━━━━━━━━━━━━━━━━━━━━━━━━━━━━━━\u001b[0m \u001b[32m2.0/2.0 MB\u001b[0m \u001b[31m8.2 MB/s\u001b[0m eta \u001b[36m0:00:00\u001b[0m\n",
            "\u001b[?25h  Preparing metadata (setup.py) ... \u001b[?25l\u001b[?25hdone\n",
            "Building wheels for collected packages: simpleaudio\n",
            "  Building wheel for simpleaudio (setup.py) ... \u001b[?25l\u001b[?25hdone\n",
            "  Created wheel for simpleaudio: filename=simpleaudio-1.0.4-cp310-cp310-linux_x86_64.whl size=2054402 sha256=9574239caf93ac3fe6cad8d96d405d290f4fa1cc355d9a6694111d285a08143d\n",
            "  Stored in directory: /root/.cache/pip/wheels/10/70/ed/8c41675109565c2c65c3ac40d20859fc9d3f93a8efbb11d1c7\n",
            "Successfully built simpleaudio\n",
            "Installing collected packages: simpleaudio\n",
            "Successfully installed simpleaudio-1.0.4\n",
            "Requirement already satisfied: pygame in /usr/local/lib/python3.10/dist-packages (2.5.2)\n"
          ]
        }
      ],
      "source": [
        "%pip install librosa\n",
        "%pip install matplotlib\n",
        "%pip install numpy\n",
        "%pip install keras\n",
        "%pip install opencv-python\n",
        "%pip install PIL\n",
        "%pip install flask_cors\n",
        "%pip install keras\n",
        "%pip install tensorflow\n",
        "%pip install tkinter\n",
        "%pip install simpleaudio\n",
        "%pip install pygame"
      ]
    },
    {
      "cell_type": "code",
      "execution_count": 2,
      "metadata": {
        "id": "PuIyYqIUlqiL",
        "colab": {
          "base_uri": "https://localhost:8080/"
        },
        "outputId": "c5d13db7-d3c3-4e3a-8669-9c2617db8663"
      },
      "outputs": [
        {
          "output_type": "stream",
          "name": "stdout",
          "text": [
            "pygame 2.5.2 (SDL 2.28.2, Python 3.10.12)\n",
            "Hello from the pygame community. https://www.pygame.org/contribute.html\n"
          ]
        }
      ],
      "source": [
        "import librosa\n",
        "import librosa.display\n",
        "\n",
        "import matplotlib.pyplot as plt\n",
        "import numpy as np\n",
        "\n",
        "import itertools\n",
        "import math\n",
        "import math\n",
        "\n",
        "import tempfile\n",
        "import os\n",
        "import keras.models\n",
        "\n",
        "import cv2\n",
        "from PIL import Image\n",
        "\n",
        "import os\n",
        "import tkinter as tk\n",
        "from tkinter import filedialog\n",
        "from tkinter import ttk\n",
        "import simpleaudio as sa\n",
        "import pygame\n",
        "import time\n",
        "import json\n",
        "#from flask import Flask, request, jsonify\n",
        "#from flask_cors import CORS\n",
        "\n"
      ]
    },
    {
      "cell_type": "code",
      "source": [
        "from google.colab import drive\n",
        "drive.mount('/content/drive')"
      ],
      "metadata": {
        "colab": {
          "base_uri": "https://localhost:8080/"
        },
        "id": "TY9d7Hoz5Q4m",
        "outputId": "4432d8db-bbda-4c87-ffab-7c865e565d80"
      },
      "execution_count": 3,
      "outputs": [
        {
          "output_type": "stream",
          "name": "stdout",
          "text": [
            "Mounted at /content/drive\n"
          ]
        }
      ]
    },
    {
      "cell_type": "markdown",
      "metadata": {
        "id": "_wFIMNqOYETR"
      },
      "source": [
        "Librosa(https://zenodo.org/badge/6309729.svg)\n"
      ]
    },
    {
      "cell_type": "markdown",
      "metadata": {
        "id": "bWnIcncRXego"
      },
      "source": [
        "Carga del modelo preentrenado"
      ]
    },
    {
      "cell_type": "code",
      "execution_count": 4,
      "metadata": {
        "id": "NQMGTM6WXcwB"
      },
      "outputs": [],
      "source": [
        "model = keras.models.load_model('/content/drive/MyDrive/proyecto deteccion acordes/modelo_entrenado/recon_acordes.h5')"
      ]
    },
    {
      "cell_type": "markdown",
      "metadata": {
        "id": "bn7Lse_BgKbt"
      },
      "source": [
        "Array de acordes soportados, en el mismo orden en que se entrenó el modelo"
      ]
    },
    {
      "cell_type": "code",
      "execution_count": 5,
      "metadata": {
        "id": "baXWPk_rfhyl"
      },
      "outputs": [],
      "source": [
        "lista_acordes= ['Am', 'Bb', 'C', 'Dm', 'Bdim', 'G', 'F', 'Em']\n",
        "acordes =np.array(lista_acordes)"
      ]
    },
    {
      "cell_type": "markdown",
      "metadata": {
        "id": "KICaiVC4XuZf"
      },
      "source": [
        "**Tratamiento del fichero de audio**:\n",
        "\n",
        "1.   Extraer los datos del fichero de audio, de la misma manera que cuando se entrenó el modelo\n",
        "\n",
        "    -   División del fichero en muestras de medio segundo\n",
        "    -   Normalización de la muestra a imagen en blanco y negro\n",
        "    -   Reescalado de la imagen a 300 x 300 píxeles\n",
        "\n",
        "2.   Predecir cada muestra de tiempo de la canción\n",
        "3.   Generar una cadena de salida con el tiempo de inicio de la muestra y el acorde predicho, así como el porcentaje de confianza que el modelo tiene en dicha predicción\n",
        "\n"
      ]
    },
    {
      "cell_type": "markdown",
      "metadata": {
        "id": "F9uIrYykdBoG"
      },
      "source": [
        "Paso la imagen a escala de grises, y la reescalo a 300 x 300 píxeles, antes de evaluarla"
      ]
    },
    {
      "cell_type": "code",
      "execution_count": 6,
      "metadata": {
        "id": "8Jjx-WjoKjj6"
      },
      "outputs": [],
      "source": [
        "def normalizar_imagen(espectrograma):\n",
        "  # Convertir a escala de grises\n",
        "  imagen_gris = cv2.cvtColor(espectrograma, cv2.COLOR_BGR2GRAY)\n",
        "  espectrograma_gris_3_canales = cv2.cvtColor(imagen_gris, cv2.COLOR_GRAY2BGR)\n",
        "  #reescalar imagen\n",
        "  imagen = cv2.resize(espectrograma_gris_3_canales, (300,300), interpolation=cv2.INTER_CUBIC)\n",
        "  # imagen_gris = Image.fromarray(imagen_gris)\n",
        "  return imagen\n"
      ]
    },
    {
      "cell_type": "code",
      "execution_count": 7,
      "metadata": {
        "id": "hlzpBIx1DBJz"
      },
      "outputs": [],
      "source": [
        "def procesar_audio(audio_file, progress_bar):\n",
        "  umbral_confianza =80\n",
        "  audio_data, sample_rate = librosa.load(audio_file)\n",
        "  # Divide el audio en segmentos de 1/2 segundo y genera histogramas y periodogramas\n",
        "  segment_duration = 0.5  # Duración del segmento en segundos\n",
        "  num_segments = int(len(audio_data) / (sample_rate * segment_duration))\n",
        "  #separar la parte armónica de la percusiva del audio de origen\n",
        "  audio_harmonic, audio_percussive = librosa.effects.hpss(audio_data)\n",
        "  salida = \"[\"\n",
        "  for i in range(num_segments):\n",
        "      progress_bar['value'] = (i + 1) / num_segments * 100\n",
        "      root.update_idletasks()\n",
        "      start_time = i * segment_duration\n",
        "      end_time = (i + 1) * segment_duration\n",
        "      segment = audio_harmonic[int(start_time * sample_rate):int(end_time * sample_rate)]\n",
        "\n",
        "      # Deshabilitar la visualización interactiva de las imágenes\n",
        "      plt.ioff()\n",
        "\n",
        "      # Periodograma del segmento\n",
        "      plt.figure(figsize=(4, 4))\n",
        "      librosa.display.specshow(librosa.power_to_db(abs(librosa.stft(segment)), ref=np.max), y_axis='log', x_axis='time', cmap='viridis')\n",
        "      plt.axis('off')\n",
        "      plt.subplots_adjust(top=1, bottom=0, right=1, left=0, hspace=0, wspace=0)\n",
        "      # Guardar la imagen\n",
        "      # nombreimagen = os.path.join('/content/', 'imagen.png')\n",
        "      # plt.savefig(nombreimagen, bbox_inches='tight', pad_inches=0)\n",
        "      # Convertir la figura a un array de NumPy\n",
        "      fig = plt.gcf()\n",
        "      fig.canvas.draw()\n",
        "      espectrograma_array = np.frombuffer(fig.canvas.tostring_rgb(), dtype=np.uint8)\n",
        "      espectrograma_array = espectrograma_array.reshape(fig.canvas.get_width_height()[::-1] + (3,))\n",
        "\n",
        "      # Cerrar la figura de Matplotlib\n",
        "      plt.close()\n",
        "      imagen=normalizar_imagen(espectrograma_array)\n",
        "      # normalizar_imagen('/content/')\n",
        "      #cargar imagen en X\n",
        "      X = []\n",
        "      X.append(imagen)\n",
        "        #hacer predict con el modelo\n",
        "      pred = model.predict(np.array(X))\n",
        "      #añadir linea con el predict a un fichero de texto\n",
        "      row = []\n",
        "      if round(np.max(pred)*100,2)>umbral_confianza: #si la seguridad con la que está predicho es superior al 70%, lo muestro, si no, no\n",
        "        predicho = np.argmax(pred) #clase con mejor predicción\n",
        "\n",
        "\n",
        "        #fila =\"{ timestamp: \" + str(start_time) + \", text: '\" + acordes[predicho] + \" - \" + str(round(np.max(pred)*100,2))+ \"'}\"\n",
        "        #formato del texto de salida\n",
        "        fila ='{ \"timestamp\": ' + str(start_time) + ', \"text\": \"' + acordes[predicho] + '\"}'\n",
        "        if salida =='[':\n",
        "          salida +=fila\n",
        "        else :\n",
        "          salida +=',' + fila\n",
        "\n",
        "\n",
        "\n",
        "\n",
        "  # Escribir los datos en la salida de texto\n",
        "  salida += \"]\"\n",
        "  #print(salida)\n",
        "  return salida, progress_bar"
      ]
    },
    {
      "cell_type": "code",
      "execution_count": 8,
      "metadata": {
        "colab": {
          "base_uri": "https://localhost:8080/",
          "height": 332
        },
        "id": "ogh1SrSc4y0C",
        "outputId": "a126b538-8e38-4efe-e8ae-69d9dd1731a0"
      },
      "outputs": [
        {
          "output_type": "error",
          "ename": "TclError",
          "evalue": "no display name and no $DISPLAY environment variable",
          "traceback": [
            "\u001b[0;31m---------------------------------------------------------------------------\u001b[0m",
            "\u001b[0;31mTclError\u001b[0m                                  Traceback (most recent call last)",
            "\u001b[0;32m<ipython-input-8-915b39ef5e8f>\u001b[0m in \u001b[0;36m<cell line: 77>\u001b[0;34m()\u001b[0m\n\u001b[1;32m     75\u001b[0m \u001b[0;34m\u001b[0m\u001b[0m\n\u001b[1;32m     76\u001b[0m \u001b[0;34m\u001b[0m\u001b[0m\n\u001b[0;32m---> 77\u001b[0;31m \u001b[0mroot\u001b[0m \u001b[0;34m=\u001b[0m \u001b[0mtk\u001b[0m\u001b[0;34m.\u001b[0m\u001b[0mTk\u001b[0m\u001b[0;34m(\u001b[0m\u001b[0;34m)\u001b[0m\u001b[0;34m\u001b[0m\u001b[0;34m\u001b[0m\u001b[0m\n\u001b[0m\u001b[1;32m     78\u001b[0m \u001b[0mroot\u001b[0m\u001b[0;34m.\u001b[0m\u001b[0mtitle\u001b[0m\u001b[0;34m(\u001b[0m\u001b[0;34m\"Extractor de acordes\"\u001b[0m\u001b[0;34m)\u001b[0m\u001b[0;34m\u001b[0m\u001b[0;34m\u001b[0m\u001b[0m\n\u001b[1;32m     79\u001b[0m \u001b[0;31m# Establecer el tamaño de la ventana\u001b[0m\u001b[0;34m\u001b[0m\u001b[0;34m\u001b[0m\u001b[0m\n",
            "\u001b[0;32m/usr/lib/python3.10/tkinter/__init__.py\u001b[0m in \u001b[0;36m__init__\u001b[0;34m(self, screenName, baseName, className, useTk, sync, use)\u001b[0m\n\u001b[1;32m   2297\u001b[0m                 \u001b[0mbaseName\u001b[0m \u001b[0;34m=\u001b[0m \u001b[0mbaseName\u001b[0m \u001b[0;34m+\u001b[0m \u001b[0mext\u001b[0m\u001b[0;34m\u001b[0m\u001b[0;34m\u001b[0m\u001b[0m\n\u001b[1;32m   2298\u001b[0m         \u001b[0minteractive\u001b[0m \u001b[0;34m=\u001b[0m \u001b[0;32mFalse\u001b[0m\u001b[0;34m\u001b[0m\u001b[0;34m\u001b[0m\u001b[0m\n\u001b[0;32m-> 2299\u001b[0;31m         \u001b[0mself\u001b[0m\u001b[0;34m.\u001b[0m\u001b[0mtk\u001b[0m \u001b[0;34m=\u001b[0m \u001b[0m_tkinter\u001b[0m\u001b[0;34m.\u001b[0m\u001b[0mcreate\u001b[0m\u001b[0;34m(\u001b[0m\u001b[0mscreenName\u001b[0m\u001b[0;34m,\u001b[0m \u001b[0mbaseName\u001b[0m\u001b[0;34m,\u001b[0m \u001b[0mclassName\u001b[0m\u001b[0;34m,\u001b[0m \u001b[0minteractive\u001b[0m\u001b[0;34m,\u001b[0m \u001b[0mwantobjects\u001b[0m\u001b[0;34m,\u001b[0m \u001b[0museTk\u001b[0m\u001b[0;34m,\u001b[0m \u001b[0msync\u001b[0m\u001b[0;34m,\u001b[0m \u001b[0muse\u001b[0m\u001b[0;34m)\u001b[0m\u001b[0;34m\u001b[0m\u001b[0;34m\u001b[0m\u001b[0m\n\u001b[0m\u001b[1;32m   2300\u001b[0m         \u001b[0;32mif\u001b[0m \u001b[0museTk\u001b[0m\u001b[0;34m:\u001b[0m\u001b[0;34m\u001b[0m\u001b[0;34m\u001b[0m\u001b[0m\n\u001b[1;32m   2301\u001b[0m             \u001b[0mself\u001b[0m\u001b[0;34m.\u001b[0m\u001b[0m_loadtk\u001b[0m\u001b[0;34m(\u001b[0m\u001b[0;34m)\u001b[0m\u001b[0;34m\u001b[0m\u001b[0;34m\u001b[0m\u001b[0m\n",
            "\u001b[0;31mTclError\u001b[0m: no display name and no $DISPLAY environment variable"
          ]
        }
      ],
      "source": [
        "reproduciendo = False\n",
        "current_time  = 0\n",
        "\n",
        "def seleccionar_archivo_audio():\n",
        "    archivo_audio = filedialog.askopenfilename(title=\"Seleccionar archivo de audio\",\n",
        "                                              filetypes=[(\"Archivos de audio\", \"*.wav;*.mp3;*.ogg\")])\n",
        "    if archivo_audio:\n",
        "        boton_seleccionar.config(state='disabled')\n",
        "        progress_bar = ttk.Progressbar(root, mode='determinate', length=300)\n",
        "        progress_bar.pack(pady=10)\n",
        "\n",
        "        # Procesar el archivo de audio y recibir la barra de progreso actualizada\n",
        "        salida, progress_bar = procesar_audio(archivo_audio, progress_bar)\n",
        "\n",
        "        # Actualizar la barra de progreso al 100%\n",
        "        progress_bar['value'] = 100\n",
        "        root.update_idletasks()\n",
        "\n",
        "        global audio_file, anotaciones\n",
        "        audio_file = archivo_audio\n",
        "\n",
        "        try:\n",
        "            anotaciones = json.loads(salida)\n",
        "            print(anotaciones)  # Verificar el formato de las anotaciones\n",
        "        except json.JSONDecodeError:\n",
        "            print(\"Error: Las anotaciones no están en formato JSON válido.\")\n",
        "            return\n",
        "\n",
        "\n",
        "        # Habilitar el botón de reproducción, el de selección y el de pausa\n",
        "        boton_reproducir.config(state='normal')\n",
        "        boton_pausa.config(state='normal')\n",
        "        boton_seleccionar.config(state='normal')\n",
        "\n",
        "        # Crear una etiqueta para mostrar información adicional\n",
        "        global label_info\n",
        "        label_info = tk.Label(root, text=\"\", font=(\"Arial\", 40))\n",
        "        label_info.pack(pady=10)\n",
        "\n",
        "\n",
        "\n",
        "def reproducir_audio():\n",
        "    global reproduciendo\n",
        "    reproduciendo = True\n",
        "\n",
        "    # Inicializar pygame para la reproducción de audio\n",
        "    pygame.mixer.init()\n",
        "    pygame.mixer.music.load(audio_file)\n",
        "\n",
        "    # Crear un label para mostrar las anotaciones\n",
        "    label_anotaciones = tk.Label(root, text=\"\", font=(\"Arial\", 20))\n",
        "    label_anotaciones.pack(pady=20)\n",
        "\n",
        "     # Reproducir el audio con las anotaciones\n",
        "    pygame.mixer.music.play()\n",
        "    #while pygame.mixer.music.get_busy():\n",
        "    while reproduciendo and pygame.mixer.music.get_pos() >= 0:\n",
        "        current_time = pygame.mixer.music.get_pos() / 1000\n",
        "        for anotacion in anotaciones:\n",
        "            if anotacion['timestamp'] <= current_time:\n",
        "                label_info.config(text=f\"  {anotacion['text']}  \")\n",
        "\n",
        "                root.update_idletasks()\n",
        "        time.sleep(0.1)\n",
        "\n",
        "    # Detener la reproducción del audio\n",
        "    pygame.mixer.music.stop()\n",
        "    reproduciendo = False\n",
        "\n",
        "def pausar_reproduccion():\n",
        "    global reproduciendo\n",
        "    reproduciendo = False\n",
        "    pygame.mixer.music.pause()\n",
        "\n",
        "\n",
        "\n",
        "root = tk.Tk()\n",
        "root.title(\"Extractor de acordes\")\n",
        "# Establecer el tamaño de la ventana\n",
        "root.geometry(\"400x300\")  # Ancho x Altura\n",
        "# Cargar el tema 'clam'\n",
        "style = ttk.Style()\n",
        "style.theme_use('clam')\n",
        "# Personalizar el estilo de la barra de progreso\n",
        "style.configure('TProgressbar', background='#4CAF50')\n",
        "# Crear un botón para seleccionar el archivo de audio\n",
        "boton_seleccionar = tk.Button(root, text=\"Seleccionar archivo de audio\", command=seleccionar_archivo_audio)\n",
        "boton_seleccionar.pack(pady=20)\n",
        "\n",
        "# Crear un botón para iniciar la reproducción\n",
        "boton_reproducir = tk.Button(root, text=\"Reproducir audio\", command=reproducir_audio, state='disabled')\n",
        "boton_reproducir.pack(pady=20)\n",
        "\n",
        "# Crear un botón para pausar la reproducción\n",
        "boton_pausa = tk.Button(root, text=\"Stop\", command=pausar_reproduccion, state='disabled')\n",
        "boton_pausa.pack(pady=20)\n",
        "\n",
        "root.mainloop()"
      ]
    }
  ],
  "metadata": {
    "colab": {
      "machine_shape": "hm",
      "provenance": [],
      "include_colab_link": true
    },
    "kernelspec": {
      "display_name": "Python 3",
      "name": "python3"
    },
    "language_info": {
      "codemirror_mode": {
        "name": "ipython",
        "version": 3
      },
      "file_extension": ".py",
      "mimetype": "text/x-python",
      "name": "python",
      "nbconvert_exporter": "python",
      "pygments_lexer": "ipython3",
      "version": "3.12.3"
    }
  },
  "nbformat": 4,
  "nbformat_minor": 0
}