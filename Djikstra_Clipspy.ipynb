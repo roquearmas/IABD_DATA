{
  "nbformat": 4,
  "nbformat_minor": 0,
  "metadata": {
    "colab": {
      "provenance": [],
      "authorship_tag": "ABX9TyNhodrOpAgTm5YL9MdJQTCb",
      "include_colab_link": true
    },
    "kernelspec": {
      "name": "python3",
      "display_name": "Python 3"
    },
    "language_info": {
      "name": "python"
    }
  },
  "cells": [
    {
      "cell_type": "markdown",
      "metadata": {
        "id": "view-in-github",
        "colab_type": "text"
      },
      "source": [
        "<a href=\"https://colab.research.google.com/github/roquearmas/IABD_DATA/blob/main/Djikstra_Clipspy.ipynb\" target=\"_parent\"><img src=\"https://colab.research.google.com/assets/colab-badge.svg\" alt=\"Open In Colab\"/></a>"
      ]
    },
    {
      "cell_type": "code",
      "execution_count": 1,
      "metadata": {
        "colab": {
          "base_uri": "https://localhost:8080/"
        },
        "id": "GwuIqDRJKR9W",
        "outputId": "bb395eaf-b105-4aa7-a704-fdcdc63f21fa"
      },
      "outputs": [
        {
          "output_type": "stream",
          "name": "stdout",
          "text": [
            "Collecting clipspy\n",
            "  Downloading clipspy-1.0.3-cp310-cp310-manylinux_2_17_x86_64.manylinux2014_x86_64.whl (891 kB)\n",
            "\u001b[2K     \u001b[90m━━━━━━━━━━━━━━━━━━━━━━━━━━━━━━━━━━━━━━━━\u001b[0m \u001b[32m891.6/891.6 kB\u001b[0m \u001b[31m9.9 MB/s\u001b[0m eta \u001b[36m0:00:00\u001b[0m\n",
            "\u001b[?25hRequirement already satisfied: cffi>=1.0.0 in /usr/local/lib/python3.10/dist-packages (from clipspy) (1.16.0)\n",
            "Requirement already satisfied: pycparser in /usr/local/lib/python3.10/dist-packages (from cffi>=1.0.0->clipspy) (2.21)\n",
            "Installing collected packages: clipspy\n",
            "Successfully installed clipspy-1.0.3\n"
          ]
        }
      ],
      "source": [
        "pip install clipspy"
      ]
    },
    {
      "cell_type": "markdown",
      "source": [
        "# Algoritmo de Dijkstra con CLIPS y ClipsPy\n",
        "***Introducción***\n",
        "\n",
        "Se trata de invocar a *CLIPS*, mediante *ClipsPy*, para resolver un problema de camino mínimo entre nodos de un grafo, aplicando la teoría del algoritmo de Dijkstra, si existe un camino con coste menor a la ruta directa, sustituye dicho camino por la ruta directa.\n",
        "\n",
        "Se le pasaran los hechos y una regla, para el cálculo de dicho camino mínimo.\n",
        "\n",
        "El programa deberá pedir los nodos origen y destino por teclado y devolverá el coste y la ruta de dicho camino mínimo."
      ],
      "metadata": {
        "id": "Uhhzql5CF2rb"
      }
    },
    {
      "cell_type": "markdown",
      "source": [
        "Importación del entorno de CLIPS y creación de la plantilla ***RUTA***"
      ],
      "metadata": {
        "id": "QHyjRKAKJRAl"
      }
    },
    {
      "cell_type": "code",
      "source": [
        "from clips import Environment\n",
        "\n",
        "# Defino las reglas y hechos\n",
        "DEFTEMPLATE_STRING = \"\"\"\n",
        "(deftemplate RUTA\n",
        "   (field ORIGEN)\n",
        "   (field DESTINO)\n",
        "   (field COSTE)\n",
        "   (field ATAJO))\n",
        "\"\"\""
      ],
      "metadata": {
        "id": "wyRmgI6nKWAw"
      },
      "execution_count": 2,
      "outputs": []
    },
    {
      "cell_type": "markdown",
      "source": [
        "Creación de los hechos (definición de los grafos de prueba)"
      ],
      "metadata": {
        "id": "WGYd_V9sJd86"
      }
    },
    {
      "cell_type": "code",
      "source": [
        "DEFFACTS_STRING = \"\"\"\n",
        "(deffacts DISTANCIAS\n",
        "   (RUTA (ORIGEN A) (DESTINO B) (COSTE 2) (ATAJO \"\"))\n",
        "   (RUTA (ORIGEN A) (DESTINO C) (COSTE 7) (ATAJO \"\"))\n",
        "   (RUTA (ORIGEN A) (DESTINO D) (COSTE 4) (ATAJO \"\"))\n",
        "   (RUTA (ORIGEN A) (DESTINO E) (COSTE 75) (ATAJO \"\"))\n",
        "   (RUTA (ORIGEN B) (DESTINO C) (COSTE 3) (ATAJO \"\"))\n",
        "   (RUTA (ORIGEN B) (DESTINO D) (COSTE 1) (ATAJO \"\"))\n",
        "   (RUTA (ORIGEN B) (DESTINO E) (COSTE 20) (ATAJO \"\"))\n",
        "   (RUTA (ORIGEN C) (DESTINO D) (COSTE 3) (ATAJO \"\"))\n",
        "   (RUTA (ORIGEN D) (DESTINO E) (COSTE 5) (ATAJO \"\"))\n",
        "   )\n",
        "\"\"\"\n",
        "\n",
        "# DEFFACTS_STRING = \"\"\"\n",
        "# (deffacts DISTANCIAS\n",
        "#    (RUTA (ORIGEN A) (DESTINO B) (COSTE 10) (ATAJO \"\"))\n",
        "#    (RUTA (ORIGEN A) (DESTINO C) (COSTE 30) (ATAJO \"\"))\n",
        "#    (RUTA (ORIGEN A) (DESTINO D) (COSTE 100) (ATAJO \"\") )\n",
        "#    (RUTA (ORIGEN B) (DESTINO C) (COSTE 5) (ATAJO \"\"))\n",
        "#    (RUTA (ORIGEN B) (DESTINO D) (COSTE 999) (ATAJO \"\"))\n",
        "#    (RUTA (ORIGEN C) (DESTINO D) (COSTE 7) (ATAJO \"\"))\n",
        "#    )\n",
        "# \"\"\""
      ],
      "metadata": {
        "id": "sLTN_jW3Jdv6"
      },
      "execution_count": 21,
      "outputs": []
    },
    {
      "cell_type": "markdown",
      "source": [
        "Definición de la regla ***CALCULA***\n",
        "\n",
        "En este paso es donde se encuentra la definición del algoritmo en sí, donde se modifican los hechos, de tal manera que se pueda generar el hecho final, que nos devuelve el coste total y la ruta que se ha seguido."
      ],
      "metadata": {
        "id": "o3-L7Y_7JsNT"
      }
    },
    {
      "cell_type": "code",
      "source": [
        "DEFRULE_STRING = \"\"\"\n",
        "(defrule CALCULA\n",
        "   ?HECHO1 <-(RUTA (ORIGEN ?ORI) (DESTINO ?DEST) (COSTE ?COSTE1) )\n",
        "   (RUTA (ORIGEN ?OTRO) (DESTINO ?DEST) (COSTE ?COSTE2) (ATAJO ?ATAJO1)    )\n",
        "   (RUTA (ORIGEN ?ORI) (DESTINO ?OTRO) (COSTE ?COSTE3) )\n",
        "   (test (< (+ ?COSTE2 ?COSTE3) ?COSTE1))\n",
        "   =>\n",
        "   (modify ?HECHO1 (COSTE (+ ?COSTE2 ?COSTE3)) (ATAJO (str-cat ?OTRO ?ATAJO1)))\n",
        ")\n",
        "\"\"\""
      ],
      "metadata": {
        "id": "5jASkcdmJsGT"
      },
      "execution_count": 4,
      "outputs": []
    },
    {
      "cell_type": "markdown",
      "source": [
        "Ejecución dentro de Python, mediante ClipsPy.\n",
        "\n",
        "Básicamente se trata de crear un entorno de CLIPS y construir los elementos creados anteriormente (plantilla, hechos y regla)\n",
        "\n",
        "Desde Python se piden los dos parametros necesarios: Nodo de Origen y Destino\n",
        "\n",
        "Ejecuta las activaciones en la agenda, lo que implica que las reglas se activarán y evaluarán en función de los hechos disponibles.\n",
        "\n",
        "Busca los hechos en el entorno. Encuentra la ruta más corta entre el nodo de origen y destino o a través de nodos intermedios.\n",
        "\n",
        "Devuelve la ruta más corta encontrada, incluyendo el coste y el atajo si corresponde, o indica si no se encontró una ruta\n",
        "\n"
      ],
      "metadata": {
        "id": "m-WAC4yTKCIj"
      }
    },
    {
      "cell_type": "code",
      "source": [
        "\n",
        "# Crea el entorno CLIPS\n",
        "environment = Environment()\n",
        "\n",
        "# Construye los objetos de CLIPS\n",
        "environment.build(DEFTEMPLATE_STRING)\n",
        "environment.build(DEFFACTS_STRING)\n",
        "environment.build(DEFRULE_STRING)\n",
        "\n",
        "# Recupera la plantilla de hecho\n",
        "template = environment.find_template('RUTA')\n",
        "\n",
        "# Pregunta por los nodos de origen y destino\n",
        "nodo_origen  = str(input(\"Nodo Origen : \")).upper()\n",
        "nodo_destino = str(input(\"Nodo Destino: \")).upper()\n",
        "\n",
        "# Ejecuta las activaciones en la agenda\n",
        "environment.reset()\n",
        "environment.run()\n",
        "\n",
        "# Buscar hechos en el entorno\n",
        "facts = environment.facts()\n",
        "environment.facts()\n",
        "# Encuentra la ruta más corta\n",
        "ruta_mas_corta = None\n",
        "for fact in facts:\n",
        "    print(fact['ORIGEN'] , '-->' , fact['DESTINO'] , ' - Coste =' , fact['COSTE'] , ' - Ruta Intermedia:' , fact['ATAJO'])\n",
        "    if fact.template.name == 'RUTA' and ((fact['ORIGEN'] == nodo_origen and fact['DESTINO'] == nodo_destino) or (fact['ORIGEN'] == nodo_origen and fact['ATAJO'] == nodo_destino)):\n",
        "        ruta_mas_corta = fact\n",
        "        break\n",
        "\n",
        "if ruta_mas_corta:\n",
        "    print(f\"La ruta más corta desde {nodo_origen} a {nodo_destino} es:\")\n",
        "    print(f\"Coste: {ruta_mas_corta['COSTE']}, Atajo: {nodo_origen}{ruta_mas_corta['ATAJO']}{nodo_destino}\")\n",
        "else:\n",
        "    print(f\"No se encontró una ruta de {nodo_origen} a {nodo_destino}.\")\n"
      ],
      "metadata": {
        "colab": {
          "base_uri": "https://localhost:8080/"
        },
        "id": "Fj0a1HczKB9L",
        "outputId": "1a994405-1621-4c36-cec2-f1a05a705b7f"
      },
      "execution_count": 22,
      "outputs": [
        {
          "output_type": "stream",
          "name": "stdout",
          "text": [
            "Nodo Origen : A\n",
            "Nodo Destino: E\n",
            "A --> B  - Coste = 2  - Ruta Intermedia: \n",
            "A --> C  - Coste = 5  - Ruta Intermedia: B\n",
            "A --> D  - Coste = 3  - Ruta Intermedia: B\n",
            "A --> E  - Coste = 8  - Ruta Intermedia: BD\n",
            "La ruta más corta desde A a E es:\n",
            "Coste: 8, Atajo: ABDE\n"
          ]
        }
      ]
    }
  ]
}