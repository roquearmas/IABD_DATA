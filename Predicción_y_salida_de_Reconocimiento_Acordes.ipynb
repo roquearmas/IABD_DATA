{
  "cells": [
    {
      "cell_type": "markdown",
      "metadata": {
        "id": "view-in-github",
        "colab_type": "text"
      },
      "source": [
        "<a href=\"https://colab.research.google.com/github/roquearmas/IABD_DATA/blob/main/Predicci%C3%B3n_y_salida_de_Reconocimiento_Acordes.ipynb\" target=\"_parent\"><img src=\"https://colab.research.google.com/assets/colab-badge.svg\" alt=\"Open In Colab\"/></a>"
      ]
    },
    {
      "cell_type": "code",
      "execution_count": 8,
      "metadata": {
        "id": "PuIyYqIUlqiL"
      },
      "outputs": [],
      "source": [
        "import librosa\n",
        "import librosa.display\n",
        "\n",
        "import matplotlib.pyplot as plt\n",
        "import numpy as np\n",
        "\n",
        "import pandas as pd\n",
        "from google.colab import drive\n",
        "import itertools\n",
        "import math\n",
        "from IPython.display import Audio\n",
        "import math\n",
        "\n",
        "import tempfile\n",
        "import os\n",
        "import keras.models\n",
        "\n",
        "import cv2\n",
        "from PIL import Image\n"
      ]
    },
    {
      "cell_type": "markdown",
      "metadata": {
        "id": "_wFIMNqOYETR"
      },
      "source": [
        "Librosa(https://zenodo.org/badge/6309729.svg)\n"
      ]
    },
    {
      "cell_type": "markdown",
      "source": [
        "Carga del fichero de audio a predecir"
      ],
      "metadata": {
        "id": "m2Aiw7H9Xkc_"
      }
    },
    {
      "cell_type": "code",
      "execution_count": 9,
      "metadata": {
        "colab": {
          "base_uri": "https://localhost:8080/"
        },
        "id": "e2eJ0-pal0Lr",
        "outputId": "b89aa6b1-0a5c-4693-d8c6-b09933558653",
        "collapsed": true
      },
      "outputs": [
        {
          "output_type": "stream",
          "name": "stdout",
          "text": [
            "Drive already mounted at /content/drive; to attempt to forcibly remount, call drive.mount(\"/content/drive\", force_remount=True).\n"
          ]
        }
      ],
      "source": [
        "drive.mount('/content/drive')\n",
        "audio_file = '/content/drive/MyDrive/proyecto deteccion acordes/Dover - King George Acústico 2012.mp3'\n",
        "# audio_file = '/content/drive/MyDrive/proyecto deteccion acordes/02 - Eric Clapton - Before You Accuse Me .mp3'\n",
        "#audio_file = '/content/drive/MyDrive/proyecto deteccion acordes/Lynyrd Skynyrd - 01 - Sweet Home Alabama.mp3'\n",
        "# Carga en la librería Librosa\n",
        "audio_data, sample_rate = librosa.load(audio_file)\n",
        "\n"
      ]
    },
    {
      "cell_type": "markdown",
      "source": [
        "Carga del modelo preentrenado"
      ],
      "metadata": {
        "id": "bWnIcncRXego"
      }
    },
    {
      "cell_type": "code",
      "source": [
        "model = keras.models.load_model('/content/drive/MyDrive/proyecto deteccion acordes/modelo_entrenado/recon_acordes.h5')\n"
      ],
      "metadata": {
        "id": "NQMGTM6WXcwB"
      },
      "execution_count": 11,
      "outputs": []
    },
    {
      "cell_type": "markdown",
      "source": [
        "Array de acordes soportados, en el mismo orden en que se entrenó el modelo"
      ],
      "metadata": {
        "id": "bn7Lse_BgKbt"
      }
    },
    {
      "cell_type": "code",
      "source": [
        "lista_acordes= ['Am', 'Bb', 'C', 'Dm', 'Bdim', 'G', 'F', 'Em']\n",
        "acordes =np.array(lista_acordes)"
      ],
      "metadata": {
        "id": "baXWPk_rfhyl"
      },
      "execution_count": 30,
      "outputs": []
    },
    {
      "cell_type": "markdown",
      "source": [
        "**Tratamiento del fichero de audio**:\n",
        "\n",
        "1.   Extraer los datos del fichero de audio, de la misma manera que cuando se entrenó el modelo\n",
        "\n",
        "    -   División del fichero en muestras de medio segundo\n",
        "    -   Normalización de la muestra a imagen en blanco y negro\n",
        "    -   Reescalado de la imagen a 300 x 300 píxeles\n",
        "\n",
        "2.   Predecir cada muestra de tiempo de la canción\n",
        "3.   Generar un fichero de salida con el tiempo de inicio y fin de la muestra y el acorde predicho\n"
      ],
      "metadata": {
        "id": "KICaiVC4XuZf"
      }
    },
    {
      "cell_type": "code",
      "execution_count": 34,
      "metadata": {
        "colab": {
          "base_uri": "https://localhost:8080/",
          "height": 703
        },
        "id": "bD6TTWBGmysU",
        "outputId": "b26da0c3-2d62-466a-8352-a30933c41a62",
        "collapsed": true
      },
      "outputs": [
        {
          "output_type": "stream",
          "name": "stdout",
          "text": [
            "1/1 [==============================] - 0s 62ms/step\n",
            "[[9.8499632e-01 9.5103751e-06 3.1895652e-06 1.6560683e-03 1.2768309e-02\n",
            "  5.3074094e-04 5.3654308e-06 3.0489849e-05]]\n",
            "0\n",
            "[0.0, 0.5, 'Am']\n",
            "1/1 [==============================] - 0s 64ms/step\n",
            "[[9.8499632e-01 9.5103751e-06 3.1895652e-06 1.6560683e-03 1.2768309e-02\n",
            "  5.3074094e-04 5.3654308e-06 3.0489849e-05]]\n",
            "0\n",
            "[0.5, 1.0, 'Am']\n",
            "1/1 [==============================] - 0s 64ms/step\n",
            "[[9.8499632e-01 9.5103751e-06 3.1895652e-06 1.6560683e-03 1.2768309e-02\n",
            "  5.3074094e-04 5.3654308e-06 3.0489849e-05]]\n",
            "0\n",
            "[1.0, 1.5, 'Am']\n",
            "1/1 [==============================] - 0s 64ms/step\n",
            "[[9.8499632e-01 9.5103751e-06 3.1895652e-06 1.6560683e-03 1.2768309e-02\n",
            "  5.3074094e-04 5.3654308e-06 3.0489849e-05]]\n",
            "0\n",
            "[1.5, 2.0, 'Am']\n"
          ]
        },
        {
          "output_type": "error",
          "ename": "KeyboardInterrupt",
          "evalue": "",
          "traceback": [
            "\u001b[0;31m---------------------------------------------------------------------------\u001b[0m",
            "\u001b[0;31mKeyboardInterrupt\u001b[0m                         Traceback (most recent call last)",
            "\u001b[0;32m<ipython-input-34-293c0039152a>\u001b[0m in \u001b[0;36m<cell line: 5>\u001b[0;34m()\u001b[0m\n\u001b[1;32m     11\u001b[0m     \u001b[0mplt\u001b[0m\u001b[0;34m.\u001b[0m\u001b[0mioff\u001b[0m\u001b[0;34m(\u001b[0m\u001b[0;34m)\u001b[0m\u001b[0;34m\u001b[0m\u001b[0;34m\u001b[0m\u001b[0m\n\u001b[1;32m     12\u001b[0m     \u001b[0;31m#separar la parte armónica de la percusiva del audio de origen\u001b[0m\u001b[0;34m\u001b[0m\u001b[0;34m\u001b[0m\u001b[0m\n\u001b[0;32m---> 13\u001b[0;31m     \u001b[0maudio_harmonic\u001b[0m\u001b[0;34m,\u001b[0m \u001b[0maudio_percussive\u001b[0m \u001b[0;34m=\u001b[0m \u001b[0mlibrosa\u001b[0m\u001b[0;34m.\u001b[0m\u001b[0meffects\u001b[0m\u001b[0;34m.\u001b[0m\u001b[0mhpss\u001b[0m\u001b[0;34m(\u001b[0m\u001b[0maudio_data\u001b[0m\u001b[0;34m)\u001b[0m\u001b[0;34m\u001b[0m\u001b[0;34m\u001b[0m\u001b[0m\n\u001b[0m\u001b[1;32m     14\u001b[0m \u001b[0;34m\u001b[0m\u001b[0m\n\u001b[1;32m     15\u001b[0m     \u001b[0;31m# Periodograma del segmento\u001b[0m\u001b[0;34m\u001b[0m\u001b[0;34m\u001b[0m\u001b[0m\n",
            "\u001b[0;32m/usr/local/lib/python3.10/dist-packages/librosa/effects.py\u001b[0m in \u001b[0;36mhpss\u001b[0;34m(y, kernel_size, power, mask, margin, n_fft, hop_length, win_length, window, center, pad_mode)\u001b[0m\n\u001b[1;32m    141\u001b[0m \u001b[0;34m\u001b[0m\u001b[0m\n\u001b[1;32m    142\u001b[0m     \u001b[0;31m# Decompose into harmonic and percussives\u001b[0m\u001b[0;34m\u001b[0m\u001b[0;34m\u001b[0m\u001b[0m\n\u001b[0;32m--> 143\u001b[0;31m     stft_harm, stft_perc = decompose.hpss(\n\u001b[0m\u001b[1;32m    144\u001b[0m         \u001b[0mstft\u001b[0m\u001b[0;34m,\u001b[0m \u001b[0mkernel_size\u001b[0m\u001b[0;34m=\u001b[0m\u001b[0mkernel_size\u001b[0m\u001b[0;34m,\u001b[0m \u001b[0mpower\u001b[0m\u001b[0;34m=\u001b[0m\u001b[0mpower\u001b[0m\u001b[0;34m,\u001b[0m \u001b[0mmask\u001b[0m\u001b[0;34m=\u001b[0m\u001b[0mmask\u001b[0m\u001b[0;34m,\u001b[0m \u001b[0mmargin\u001b[0m\u001b[0;34m=\u001b[0m\u001b[0mmargin\u001b[0m\u001b[0;34m\u001b[0m\u001b[0;34m\u001b[0m\u001b[0m\n\u001b[1;32m    145\u001b[0m     )\n",
            "\u001b[0;32m/usr/local/lib/python3.10/dist-packages/librosa/decompose.py\u001b[0m in \u001b[0;36mhpss\u001b[0;34m(S, kernel_size, power, mask, margin)\u001b[0m\n\u001b[1;32m    388\u001b[0m     \u001b[0;31m# Compute median filters. Pre-allocation here preserves memory layout.\u001b[0m\u001b[0;34m\u001b[0m\u001b[0;34m\u001b[0m\u001b[0m\n\u001b[1;32m    389\u001b[0m     \u001b[0mharm\u001b[0m \u001b[0;34m=\u001b[0m \u001b[0mnp\u001b[0m\u001b[0;34m.\u001b[0m\u001b[0mempty_like\u001b[0m\u001b[0;34m(\u001b[0m\u001b[0mS\u001b[0m\u001b[0;34m)\u001b[0m\u001b[0;34m\u001b[0m\u001b[0;34m\u001b[0m\u001b[0m\n\u001b[0;32m--> 390\u001b[0;31m     \u001b[0mharm\u001b[0m\u001b[0;34m[\u001b[0m\u001b[0;34m:\u001b[0m\u001b[0;34m]\u001b[0m \u001b[0;34m=\u001b[0m \u001b[0mmedian_filter\u001b[0m\u001b[0;34m(\u001b[0m\u001b[0mS\u001b[0m\u001b[0;34m,\u001b[0m \u001b[0msize\u001b[0m\u001b[0;34m=\u001b[0m\u001b[0mharm_shape\u001b[0m\u001b[0;34m,\u001b[0m \u001b[0mmode\u001b[0m\u001b[0;34m=\u001b[0m\u001b[0;34m\"reflect\"\u001b[0m\u001b[0;34m)\u001b[0m\u001b[0;34m\u001b[0m\u001b[0;34m\u001b[0m\u001b[0m\n\u001b[0m\u001b[1;32m    391\u001b[0m \u001b[0;34m\u001b[0m\u001b[0m\n\u001b[1;32m    392\u001b[0m     \u001b[0mperc\u001b[0m \u001b[0;34m=\u001b[0m \u001b[0mnp\u001b[0m\u001b[0;34m.\u001b[0m\u001b[0mempty_like\u001b[0m\u001b[0;34m(\u001b[0m\u001b[0mS\u001b[0m\u001b[0;34m)\u001b[0m\u001b[0;34m\u001b[0m\u001b[0;34m\u001b[0m\u001b[0m\n",
            "\u001b[0;32m/usr/local/lib/python3.10/dist-packages/scipy/ndimage/_filters.py\u001b[0m in \u001b[0;36mmedian_filter\u001b[0;34m(input, size, footprint, output, mode, cval, origin, axes)\u001b[0m\n\u001b[1;32m   1516\u001b[0m     \u001b[0;34m>>\u001b[0m\u001b[0;34m>\u001b[0m \u001b[0mplt\u001b[0m\u001b[0;34m.\u001b[0m\u001b[0mshow\u001b[0m\u001b[0;34m(\u001b[0m\u001b[0;34m)\u001b[0m\u001b[0;34m\u001b[0m\u001b[0;34m\u001b[0m\u001b[0m\n\u001b[1;32m   1517\u001b[0m     \"\"\"\n\u001b[0;32m-> 1518\u001b[0;31m     return _rank_filter(input, 0, size, footprint, output, mode, cval,\n\u001b[0m\u001b[1;32m   1519\u001b[0m                         origin, 'median', axes=axes)\n\u001b[1;32m   1520\u001b[0m \u001b[0;34m\u001b[0m\u001b[0m\n",
            "\u001b[0;32m/usr/local/lib/python3.10/dist-packages/scipy/ndimage/_filters.py\u001b[0m in \u001b[0;36m_rank_filter\u001b[0;34m(input, rank, size, footprint, output, mode, cval, origin, operation, axes)\u001b[0m\n\u001b[1;32m   1417\u001b[0m                 \"filters\")\n\u001b[1;32m   1418\u001b[0m         \u001b[0mmode\u001b[0m \u001b[0;34m=\u001b[0m \u001b[0m_ni_support\u001b[0m\u001b[0;34m.\u001b[0m\u001b[0m_extend_mode_to_code\u001b[0m\u001b[0;34m(\u001b[0m\u001b[0mmode\u001b[0m\u001b[0;34m)\u001b[0m\u001b[0;34m\u001b[0m\u001b[0;34m\u001b[0m\u001b[0m\n\u001b[0;32m-> 1419\u001b[0;31m         _nd_image.rank_filter(input, rank, footprint, output, mode, cval,\n\u001b[0m\u001b[1;32m   1420\u001b[0m                               origins)\n\u001b[1;32m   1421\u001b[0m         \u001b[0;32mif\u001b[0m \u001b[0mtemp_needed\u001b[0m\u001b[0;34m:\u001b[0m\u001b[0;34m\u001b[0m\u001b[0;34m\u001b[0m\u001b[0m\n",
            "\u001b[0;31mKeyboardInterrupt\u001b[0m: "
          ]
        }
      ],
      "source": [
        "# Divide el audio en segmentos de 1/2 segundo y genera histogramas y periodogramas\n",
        "segment_duration = 0.5  # Duración del segmento en segundos\n",
        "num_segments = int(len(audio_data) / (sample_rate * segment_duration))\n",
        "salida = []\n",
        "for i in range(num_segments):\n",
        "    start_time = i * segment_duration\n",
        "    end_time = (i + 1) * segment_duration\n",
        "    segment = audio_data[int(start_time * sample_rate):int(end_time * sample_rate)]\n",
        "\n",
        "    # Deshabilitar la visualización interactiva de las imágenes\n",
        "    plt.ioff()\n",
        "    #separar la parte armónica de la percusiva del audio de origen\n",
        "    audio_harmonic, audio_percussive = librosa.effects.hpss(audio_data)\n",
        "\n",
        "    # Periodograma del segmento\n",
        "    plt.figure(figsize=(4, 4))\n",
        "    librosa.display.specshow(librosa.power_to_db(abs(librosa.stft(audio_harmonic)), ref=np.max), y_axis='log', x_axis='time', cmap='viridis')\n",
        "    plt.axis('off')\n",
        "    plt.subplots_adjust(top=1, bottom=0, right=1, left=0, hspace=0, wspace=0)\n",
        "     # Guardar la imagen\n",
        "    nombreimagen = os.path.join('/content/', 'imagen.png')\n",
        "    plt.savefig(nombreimagen, bbox_inches='tight', pad_inches=0)\n",
        "    normalizar_imagen('/content/')\n",
        "    #cargar imagen en X\n",
        "    X = load_dataset('/content/')\n",
        "\n",
        "    #hacer predict con el modelo\n",
        "    pred = model.predict(X)\n",
        "    #añadir linea con el predict a un fichero de texto\n",
        "    row = []\n",
        "    row.append(start_time)\n",
        "    row.append(end_time)\n",
        "    predicho = np.argmax(pred)\n",
        "    print(pred)\n",
        "    print(predicho)\n",
        "\n",
        "    row.append(acordes[predicho])\n",
        "    salida.append (row)\n",
        "    print(row)\n",
        "\n",
        "# Escribir los datos en el archivo de texto\n",
        "with open('/content/salida.srt', 'w') as file:\n",
        "    for row in salida:\n",
        "        row_str = ' '.join(map(str, row))  # Convertir la fila a una cadena de texto separada por espacios\n",
        "        file.write(row_str + '\\n')  # Escribir la fila en el archivo\n",
        "\n"
      ]
    },
    {
      "cell_type": "code",
      "source": [
        "nombreimagen"
      ],
      "metadata": {
        "colab": {
          "base_uri": "https://localhost:8080/",
          "height": 35
        },
        "id": "vULYT8yqdLWf",
        "outputId": "5c335f37-af2a-4c2b-d9e2-c13b69b5ca14"
      },
      "execution_count": 13,
      "outputs": [
        {
          "output_type": "execute_result",
          "data": {
            "text/plain": [
              "'/content/imagen.png'"
            ],
            "application/vnd.google.colaboratory.intrinsic+json": {
              "type": "string"
            }
          },
          "metadata": {},
          "execution_count": 13
        }
      ]
    },
    {
      "cell_type": "markdown",
      "metadata": {
        "id": "rh1gL9WVCyiw"
      },
      "source": [
        "Cargar imagen en un dataset, para predecir"
      ]
    },
    {
      "cell_type": "code",
      "source": [
        "def load_dataset(dirname):\n",
        "  X = []\n",
        "  entorno =os.path.basename(os.path.dirname(dirname))\n",
        "  files = os.listdir(os.path.join(dirname))\n",
        "  images = [file for file in files if file.lower().endswith(\"png\")]\n",
        "  i=0\n",
        "  for image_name in images:\n",
        "    i+=1\n",
        "    imagen = cv2.imread(os.path.join(dirname, image_name))\n",
        "    imagen = cv2.resize(imagen, (300,300), interpolation=cv2.INTER_CUBIC)\n",
        "\n",
        "  X.append(imagen)\n",
        "  return np.array(X)"
      ],
      "metadata": {
        "id": "YVKfLfbRJFOk"
      },
      "execution_count": 33,
      "outputs": []
    },
    {
      "cell_type": "markdown",
      "source": [
        "Paso la imagen a escala de grises, antes de evaluarla"
      ],
      "metadata": {
        "id": "F9uIrYykdBoG"
      }
    },
    {
      "cell_type": "code",
      "source": [
        "def normalizar_imagen(dirname):\n",
        "  files = os.listdir(os.path.join(dirname))\n",
        "  images = [file for file in files if file.lower().endswith(\"png\")]\n",
        "  for image_name in images:\n",
        "    imagen = cv2.imread(os.path.join(dirname, image_name))\n",
        "    # Convierto todas las imágenes a escala de grises\n",
        "    imagen_gris = cv2.cvtColor(imagen, cv2.COLOR_BGR2GRAY) # Normalio todas las imágenes a escala de grises\n",
        "    imagen_gris = Image.fromarray(imagen_gris)\n",
        "    imagen_gris.save(os.path.join( dirname, image_name))"
      ],
      "metadata": {
        "id": "8Jjx-WjoKjj6"
      },
      "execution_count": 21,
      "outputs": []
    }
  ],
  "metadata": {
    "colab": {
      "machine_shape": "hm",
      "provenance": [],
      "mount_file_id": "1CKuazBlp7wU6WjmrZHrIp-CuXsk9-Upj",
      "authorship_tag": "ABX9TyNwBfsHPQp5/FpeH29+/bWc",
      "include_colab_link": true
    },
    "kernelspec": {
      "display_name": "Python 3",
      "name": "python3"
    },
    "language_info": {
      "name": "python"
    }
  },
  "nbformat": 4,
  "nbformat_minor": 0
}