{
  "nbformat": 4,
  "nbformat_minor": 0,
  "metadata": {
    "colab": {
      "provenance": [],
      "authorship_tag": "ABX9TyP9zeVDAUSvsEMUdDc+mBtj",
      "include_colab_link": true
    },
    "kernelspec": {
      "name": "python3",
      "display_name": "Python 3"
    },
    "language_info": {
      "name": "python"
    }
  },
  "cells": [
    {
      "cell_type": "markdown",
      "metadata": {
        "id": "view-in-github",
        "colab_type": "text"
      },
      "source": [
        "<a href=\"https://colab.research.google.com/github/roquearmas/IABD_DATA/blob/main/Examen_proyecto_UT1%2C_UT2_y_UT3_MotoresNASA.ipynb\" target=\"_parent\"><img src=\"https://colab.research.google.com/assets/colab-badge.svg\" alt=\"Open In Colab\"/></a>"
      ]
    },
    {
      "cell_type": "markdown",
      "source": [
        "# **Examen / Proyecto UT1, UT2 y UT3**\n",
        "\n",
        "# ***Jesús Roque Armas Martín - CEIABD***"
      ],
      "metadata": {
        "id": "hGbtRpHu7Oh2"
      }
    },
    {
      "cell_type": "markdown",
      "source": [
        "Importo las librerías necesarias"
      ],
      "metadata": {
        "id": "PtUB-YqmtRrd"
      }
    },
    {
      "cell_type": "code",
      "execution_count": 116,
      "metadata": {
        "id": "X0hRqXK3tOlv"
      },
      "outputs": [],
      "source": [
        "import pandas as pd\n",
        "import numpy as np\n",
        "import matplotlib.pyplot as plt\n",
        "import seaborn as sns\n",
        "import joblib\n",
        "import os\n",
        "import random\n",
        "import warnings\n",
        "import sklearn\n",
        "import sklearn.externals\n",
        "from sklearn.metrics import mean_squared_error, r2_score\n",
        "from sklearn.linear_model import LinearRegression\n",
        "from sklearn import metrics\n",
        "from sklearn.metrics import accuracy_score\n",
        "from sklearn.model_selection import cross_val_score\n",
        "from sklearn.model_selection import KFold\n",
        "from sklearn.model_selection import train_test_split\n",
        "from sklearn.tree import DecisionTreeRegressor\n",
        "import time\n",
        "\n",
        "warnings.filterwarnings('ignore')"
      ]
    },
    {
      "cell_type": "markdown",
      "source": [
        "Defino los nombres de las características"
      ],
      "metadata": {
        "id": "Yr7Qf4k_tdUd"
      }
    },
    {
      "cell_type": "code",
      "source": [
        "nombres_comunes  = ['numero_unidad', 'ciclo_temporal']\n",
        "nombres_caracteristicas = ['carac_1', 'carac_2', 'carac_3']\n",
        "nombres_sensor   = ['sensor_{}'.format(i+1) for i in range(0,21)]\n",
        "nombres_columnas = nombres_comunes + nombres_caracteristicas + nombres_sensor"
      ],
      "metadata": {
        "id": "M9acrtVbtc9x"
      },
      "execution_count": 117,
      "outputs": []
    },
    {
      "cell_type": "markdown",
      "source": [
        "Importo los ficheros de train, test y validation, guardados anteriormente en GitHub\n",
        "\n"
      ],
      "metadata": {
        "id": "3vRKp5TUumrc"
      }
    },
    {
      "cell_type": "code",
      "source": [
        "dstrain  = pd.read_csv('https://raw.githubusercontent.com/roquearmas/IABD_DATA/main/train_FD004.txt',sep='\\s+',header=None,index_col=False,names=nombres_columnas)\n",
        "dstest   = pd.read_csv('https://raw.githubusercontent.com/roquearmas/IABD_DATA/main/test_FD004.txt' ,sep='\\s+',header=None,index_col=False,names=nombres_columnas)\n",
        "y_valid  = pd.read_csv('https://raw.githubusercontent.com/roquearmas/IABD_DATA/main/RUL_FD004.txt'  ,sep='\\s+',header=None,index_col=False,names=['RUL'])\n"
      ],
      "metadata": {
        "id": "2XIi_Qf1umZN"
      },
      "execution_count": 157,
      "outputs": []
    },
    {
      "cell_type": "markdown",
      "source": [
        "Tamaños de los datasets, porcentaje de test con respecto a train"
      ],
      "metadata": {
        "id": "-BVcpBgZwKtW"
      }
    },
    {
      "cell_type": "code",
      "source": [
        "print('Tamaño del dataset de entrenamiento : ',dstrain.shape)\n",
        "print('Tamaño del dataset de test :          ',dstest.shape)\n",
        "porcentaje_test = len(dstest)/(len(dstest)+len(dstrain))\n",
        "print('Porcentaje del dataset de test :     ',f\"{porcentaje_test:.3%}\")"
      ],
      "metadata": {
        "colab": {
          "base_uri": "https://localhost:8080/"
        },
        "id": "3QL8oXT_wKg-",
        "outputId": "02341f11-1b55-4d2b-dbf6-eead6b7dee58"
      },
      "execution_count": 119,
      "outputs": [
        {
          "output_type": "stream",
          "name": "stdout",
          "text": [
            "Tamaño del dataset de entrenamiento :  (61249, 26)\n",
            "Tamaño del dataset de test :           (41214, 26)\n",
            "Porcentaje del dataset de test :      40.223%\n"
          ]
        }
      ]
    },
    {
      "cell_type": "markdown",
      "source": [
        "Método para añadir la columna ***RUL*** (es la variable que va a ser nuestra y)\n",
        "\n",
        "El valor ***RUL*** se corresponde con el número de ciclos que le queda a cada motor, antes de que falle.\n",
        "\n",
        "Cuando el modelo esté entrenado, nos dirá, en un momento determinado de la vida del motor, cuántos ciclos útiles le quedan.\n"
      ],
      "metadata": {
        "id": "sA7jKbA410TT"
      }
    },
    {
      "cell_type": "code",
      "source": [
        "def add_RUL(df):\n",
        "  train_agrupado_por_unidad = df.groupby(by='numero_unidad')\n",
        "  ciclo_temporal_max = train_agrupado_por_unidad['ciclo_temporal'].max()\n",
        "  mezcla = df.merge(ciclo_temporal_max.to_frame(name='ciclo_temporal_max'), left_on='numero_unidad',right_index=True)\n",
        "  mezcla['RUL'] = mezcla['ciclo_temporal_max'] - mezcla['ciclo_temporal']\n",
        "  mezcla = mezcla.drop('ciclo_temporal_max', axis=1)\n",
        "  return mezcla\n"
      ],
      "metadata": {
        "id": "LxyMZ7au10Gy"
      },
      "execution_count": 120,
      "outputs": []
    },
    {
      "cell_type": "code",
      "source": [
        "dstrain = add_RUL(dstrain)\n",
        "dstest=add_RUL(dstest)"
      ],
      "metadata": {
        "id": "ddzMRfP-3KDj"
      },
      "execution_count": 158,
      "outputs": []
    },
    {
      "cell_type": "markdown",
      "source": [
        "Análisis de los datos con RUL (y). Queremos obtener el número máximo de ciclos que aguanta un motor, hasta que falla."
      ],
      "metadata": {
        "id": "Kv6ToAOR3r6C"
      }
    },
    {
      "cell_type": "code",
      "source": [
        "maxrul = dstrain.groupby('numero_unidad').max().reset_index()\n",
        "maxrul"
      ],
      "metadata": {
        "colab": {
          "base_uri": "https://localhost:8080/",
          "height": 444
        },
        "id": "9Twt-GQx3rus",
        "outputId": "67df5e1e-734b-470c-c928-0f402a146730"
      },
      "execution_count": 123,
      "outputs": [
        {
          "output_type": "execute_result",
          "data": {
            "text/plain": [
              "     numero_unidad  ciclo_temporal  carac_1  carac_2  carac_3  sensor_1  \\\n",
              "0                1             321  42.0079   0.8420    100.0    518.67   \n",
              "1                2             299  42.0079   0.8420    100.0    518.67   \n",
              "2                3             307  42.0079   0.8420    100.0    518.67   \n",
              "3                4             274  42.0080   0.8419    100.0    518.67   \n",
              "4                5             193  42.0072   0.8418    100.0    518.67   \n",
              "..             ...             ...      ...      ...      ...       ...   \n",
              "244            245             205  42.0080   0.8418    100.0    518.67   \n",
              "245            246             161  42.0078   0.8419    100.0    518.67   \n",
              "246            247             211  42.0077   0.8420    100.0    518.67   \n",
              "247            248             184  42.0076   0.8420    100.0    518.67   \n",
              "248            249             255  42.0079   0.8420    100.0    518.67   \n",
              "\n",
              "     sensor_2  sensor_3  sensor_4  sensor_5  ...  sensor_13  sensor_14  \\\n",
              "0      643.50   1603.28   1422.53     14.62  ...    2388.87    8184.95   \n",
              "1      643.88   1599.51   1434.23     14.62  ...    2388.37    8143.04   \n",
              "2      643.45   1605.04   1425.73     14.62  ...    2388.91    8188.39   \n",
              "3      644.07   1605.47   1432.75     14.62  ...    2389.42    8210.13   \n",
              "4      643.76   1607.29   1430.47     14.62  ...    2389.46    8187.83   \n",
              "..        ...       ...       ...       ...  ...        ...        ...   \n",
              "244    643.85   1605.51   1430.77     14.62  ...    2388.45    8143.10   \n",
              "245    643.94   1605.65   1426.86     14.62  ...    2388.40    8127.50   \n",
              "246    643.56   1607.46   1425.60     14.62  ...    2388.76    8181.85   \n",
              "247    643.95   1607.37   1430.34     14.62  ...    2388.38    8135.69   \n",
              "248    643.68   1607.72   1430.56     14.62  ...    2388.83    8193.94   \n",
              "\n",
              "     sensor_15  sensor_16  sensor_17  sensor_18  sensor_19  sensor_20  \\\n",
              "0      10.9141       0.03        397       2388      100.0      39.58   \n",
              "1      11.0337       0.03        396       2388      100.0      39.15   \n",
              "2      10.8552       0.03        396       2388      100.0      39.51   \n",
              "3      11.0113       0.03        397       2388      100.0      39.11   \n",
              "4      11.0254       0.03        398       2388      100.0      38.96   \n",
              "..         ...        ...        ...        ...        ...        ...   \n",
              "244    11.0135       0.03        397       2388      100.0      39.17   \n",
              "245    11.0271       0.03        396       2388      100.0      38.98   \n",
              "246    10.9206       0.03        397       2388      100.0      39.44   \n",
              "247    11.0088       0.03        397       2388      100.0      38.96   \n",
              "248    10.9055       0.03        396       2388      100.0      39.78   \n",
              "\n",
              "     sensor_21  RUL  \n",
              "0      23.8649  320  \n",
              "1      23.4692  298  \n",
              "2      23.7657  306  \n",
              "3      23.4354  273  \n",
              "4      23.4060  192  \n",
              "..         ...  ...  \n",
              "244    23.5146  204  \n",
              "245    23.3750  160  \n",
              "246    23.8748  210  \n",
              "247    23.4652  183  \n",
              "248    23.8270  254  \n",
              "\n",
              "[249 rows x 27 columns]"
            ],
            "text/html": [
              "\n",
              "  <div id=\"df-5c28fb8b-ef36-4641-aad2-08399d44d6fb\" class=\"colab-df-container\">\n",
              "    <div>\n",
              "<style scoped>\n",
              "    .dataframe tbody tr th:only-of-type {\n",
              "        vertical-align: middle;\n",
              "    }\n",
              "\n",
              "    .dataframe tbody tr th {\n",
              "        vertical-align: top;\n",
              "    }\n",
              "\n",
              "    .dataframe thead th {\n",
              "        text-align: right;\n",
              "    }\n",
              "</style>\n",
              "<table border=\"1\" class=\"dataframe\">\n",
              "  <thead>\n",
              "    <tr style=\"text-align: right;\">\n",
              "      <th></th>\n",
              "      <th>numero_unidad</th>\n",
              "      <th>ciclo_temporal</th>\n",
              "      <th>carac_1</th>\n",
              "      <th>carac_2</th>\n",
              "      <th>carac_3</th>\n",
              "      <th>sensor_1</th>\n",
              "      <th>sensor_2</th>\n",
              "      <th>sensor_3</th>\n",
              "      <th>sensor_4</th>\n",
              "      <th>sensor_5</th>\n",
              "      <th>...</th>\n",
              "      <th>sensor_13</th>\n",
              "      <th>sensor_14</th>\n",
              "      <th>sensor_15</th>\n",
              "      <th>sensor_16</th>\n",
              "      <th>sensor_17</th>\n",
              "      <th>sensor_18</th>\n",
              "      <th>sensor_19</th>\n",
              "      <th>sensor_20</th>\n",
              "      <th>sensor_21</th>\n",
              "      <th>RUL</th>\n",
              "    </tr>\n",
              "  </thead>\n",
              "  <tbody>\n",
              "    <tr>\n",
              "      <th>0</th>\n",
              "      <td>1</td>\n",
              "      <td>321</td>\n",
              "      <td>42.0079</td>\n",
              "      <td>0.8420</td>\n",
              "      <td>100.0</td>\n",
              "      <td>518.67</td>\n",
              "      <td>643.50</td>\n",
              "      <td>1603.28</td>\n",
              "      <td>1422.53</td>\n",
              "      <td>14.62</td>\n",
              "      <td>...</td>\n",
              "      <td>2388.87</td>\n",
              "      <td>8184.95</td>\n",
              "      <td>10.9141</td>\n",
              "      <td>0.03</td>\n",
              "      <td>397</td>\n",
              "      <td>2388</td>\n",
              "      <td>100.0</td>\n",
              "      <td>39.58</td>\n",
              "      <td>23.8649</td>\n",
              "      <td>320</td>\n",
              "    </tr>\n",
              "    <tr>\n",
              "      <th>1</th>\n",
              "      <td>2</td>\n",
              "      <td>299</td>\n",
              "      <td>42.0079</td>\n",
              "      <td>0.8420</td>\n",
              "      <td>100.0</td>\n",
              "      <td>518.67</td>\n",
              "      <td>643.88</td>\n",
              "      <td>1599.51</td>\n",
              "      <td>1434.23</td>\n",
              "      <td>14.62</td>\n",
              "      <td>...</td>\n",
              "      <td>2388.37</td>\n",
              "      <td>8143.04</td>\n",
              "      <td>11.0337</td>\n",
              "      <td>0.03</td>\n",
              "      <td>396</td>\n",
              "      <td>2388</td>\n",
              "      <td>100.0</td>\n",
              "      <td>39.15</td>\n",
              "      <td>23.4692</td>\n",
              "      <td>298</td>\n",
              "    </tr>\n",
              "    <tr>\n",
              "      <th>2</th>\n",
              "      <td>3</td>\n",
              "      <td>307</td>\n",
              "      <td>42.0079</td>\n",
              "      <td>0.8420</td>\n",
              "      <td>100.0</td>\n",
              "      <td>518.67</td>\n",
              "      <td>643.45</td>\n",
              "      <td>1605.04</td>\n",
              "      <td>1425.73</td>\n",
              "      <td>14.62</td>\n",
              "      <td>...</td>\n",
              "      <td>2388.91</td>\n",
              "      <td>8188.39</td>\n",
              "      <td>10.8552</td>\n",
              "      <td>0.03</td>\n",
              "      <td>396</td>\n",
              "      <td>2388</td>\n",
              "      <td>100.0</td>\n",
              "      <td>39.51</td>\n",
              "      <td>23.7657</td>\n",
              "      <td>306</td>\n",
              "    </tr>\n",
              "    <tr>\n",
              "      <th>3</th>\n",
              "      <td>4</td>\n",
              "      <td>274</td>\n",
              "      <td>42.0080</td>\n",
              "      <td>0.8419</td>\n",
              "      <td>100.0</td>\n",
              "      <td>518.67</td>\n",
              "      <td>644.07</td>\n",
              "      <td>1605.47</td>\n",
              "      <td>1432.75</td>\n",
              "      <td>14.62</td>\n",
              "      <td>...</td>\n",
              "      <td>2389.42</td>\n",
              "      <td>8210.13</td>\n",
              "      <td>11.0113</td>\n",
              "      <td>0.03</td>\n",
              "      <td>397</td>\n",
              "      <td>2388</td>\n",
              "      <td>100.0</td>\n",
              "      <td>39.11</td>\n",
              "      <td>23.4354</td>\n",
              "      <td>273</td>\n",
              "    </tr>\n",
              "    <tr>\n",
              "      <th>4</th>\n",
              "      <td>5</td>\n",
              "      <td>193</td>\n",
              "      <td>42.0072</td>\n",
              "      <td>0.8418</td>\n",
              "      <td>100.0</td>\n",
              "      <td>518.67</td>\n",
              "      <td>643.76</td>\n",
              "      <td>1607.29</td>\n",
              "      <td>1430.47</td>\n",
              "      <td>14.62</td>\n",
              "      <td>...</td>\n",
              "      <td>2389.46</td>\n",
              "      <td>8187.83</td>\n",
              "      <td>11.0254</td>\n",
              "      <td>0.03</td>\n",
              "      <td>398</td>\n",
              "      <td>2388</td>\n",
              "      <td>100.0</td>\n",
              "      <td>38.96</td>\n",
              "      <td>23.4060</td>\n",
              "      <td>192</td>\n",
              "    </tr>\n",
              "    <tr>\n",
              "      <th>...</th>\n",
              "      <td>...</td>\n",
              "      <td>...</td>\n",
              "      <td>...</td>\n",
              "      <td>...</td>\n",
              "      <td>...</td>\n",
              "      <td>...</td>\n",
              "      <td>...</td>\n",
              "      <td>...</td>\n",
              "      <td>...</td>\n",
              "      <td>...</td>\n",
              "      <td>...</td>\n",
              "      <td>...</td>\n",
              "      <td>...</td>\n",
              "      <td>...</td>\n",
              "      <td>...</td>\n",
              "      <td>...</td>\n",
              "      <td>...</td>\n",
              "      <td>...</td>\n",
              "      <td>...</td>\n",
              "      <td>...</td>\n",
              "      <td>...</td>\n",
              "    </tr>\n",
              "    <tr>\n",
              "      <th>244</th>\n",
              "      <td>245</td>\n",
              "      <td>205</td>\n",
              "      <td>42.0080</td>\n",
              "      <td>0.8418</td>\n",
              "      <td>100.0</td>\n",
              "      <td>518.67</td>\n",
              "      <td>643.85</td>\n",
              "      <td>1605.51</td>\n",
              "      <td>1430.77</td>\n",
              "      <td>14.62</td>\n",
              "      <td>...</td>\n",
              "      <td>2388.45</td>\n",
              "      <td>8143.10</td>\n",
              "      <td>11.0135</td>\n",
              "      <td>0.03</td>\n",
              "      <td>397</td>\n",
              "      <td>2388</td>\n",
              "      <td>100.0</td>\n",
              "      <td>39.17</td>\n",
              "      <td>23.5146</td>\n",
              "      <td>204</td>\n",
              "    </tr>\n",
              "    <tr>\n",
              "      <th>245</th>\n",
              "      <td>246</td>\n",
              "      <td>161</td>\n",
              "      <td>42.0078</td>\n",
              "      <td>0.8419</td>\n",
              "      <td>100.0</td>\n",
              "      <td>518.67</td>\n",
              "      <td>643.94</td>\n",
              "      <td>1605.65</td>\n",
              "      <td>1426.86</td>\n",
              "      <td>14.62</td>\n",
              "      <td>...</td>\n",
              "      <td>2388.40</td>\n",
              "      <td>8127.50</td>\n",
              "      <td>11.0271</td>\n",
              "      <td>0.03</td>\n",
              "      <td>396</td>\n",
              "      <td>2388</td>\n",
              "      <td>100.0</td>\n",
              "      <td>38.98</td>\n",
              "      <td>23.3750</td>\n",
              "      <td>160</td>\n",
              "    </tr>\n",
              "    <tr>\n",
              "      <th>246</th>\n",
              "      <td>247</td>\n",
              "      <td>211</td>\n",
              "      <td>42.0077</td>\n",
              "      <td>0.8420</td>\n",
              "      <td>100.0</td>\n",
              "      <td>518.67</td>\n",
              "      <td>643.56</td>\n",
              "      <td>1607.46</td>\n",
              "      <td>1425.60</td>\n",
              "      <td>14.62</td>\n",
              "      <td>...</td>\n",
              "      <td>2388.76</td>\n",
              "      <td>8181.85</td>\n",
              "      <td>10.9206</td>\n",
              "      <td>0.03</td>\n",
              "      <td>397</td>\n",
              "      <td>2388</td>\n",
              "      <td>100.0</td>\n",
              "      <td>39.44</td>\n",
              "      <td>23.8748</td>\n",
              "      <td>210</td>\n",
              "    </tr>\n",
              "    <tr>\n",
              "      <th>247</th>\n",
              "      <td>248</td>\n",
              "      <td>184</td>\n",
              "      <td>42.0076</td>\n",
              "      <td>0.8420</td>\n",
              "      <td>100.0</td>\n",
              "      <td>518.67</td>\n",
              "      <td>643.95</td>\n",
              "      <td>1607.37</td>\n",
              "      <td>1430.34</td>\n",
              "      <td>14.62</td>\n",
              "      <td>...</td>\n",
              "      <td>2388.38</td>\n",
              "      <td>8135.69</td>\n",
              "      <td>11.0088</td>\n",
              "      <td>0.03</td>\n",
              "      <td>397</td>\n",
              "      <td>2388</td>\n",
              "      <td>100.0</td>\n",
              "      <td>38.96</td>\n",
              "      <td>23.4652</td>\n",
              "      <td>183</td>\n",
              "    </tr>\n",
              "    <tr>\n",
              "      <th>248</th>\n",
              "      <td>249</td>\n",
              "      <td>255</td>\n",
              "      <td>42.0079</td>\n",
              "      <td>0.8420</td>\n",
              "      <td>100.0</td>\n",
              "      <td>518.67</td>\n",
              "      <td>643.68</td>\n",
              "      <td>1607.72</td>\n",
              "      <td>1430.56</td>\n",
              "      <td>14.62</td>\n",
              "      <td>...</td>\n",
              "      <td>2388.83</td>\n",
              "      <td>8193.94</td>\n",
              "      <td>10.9055</td>\n",
              "      <td>0.03</td>\n",
              "      <td>396</td>\n",
              "      <td>2388</td>\n",
              "      <td>100.0</td>\n",
              "      <td>39.78</td>\n",
              "      <td>23.8270</td>\n",
              "      <td>254</td>\n",
              "    </tr>\n",
              "  </tbody>\n",
              "</table>\n",
              "<p>249 rows × 27 columns</p>\n",
              "</div>\n",
              "    <div class=\"colab-df-buttons\">\n",
              "\n",
              "  <div class=\"colab-df-container\">\n",
              "    <button class=\"colab-df-convert\" onclick=\"convertToInteractive('df-5c28fb8b-ef36-4641-aad2-08399d44d6fb')\"\n",
              "            title=\"Convert this dataframe to an interactive table.\"\n",
              "            style=\"display:none;\">\n",
              "\n",
              "  <svg xmlns=\"http://www.w3.org/2000/svg\" height=\"24px\" viewBox=\"0 -960 960 960\">\n",
              "    <path d=\"M120-120v-720h720v720H120Zm60-500h600v-160H180v160Zm220 220h160v-160H400v160Zm0 220h160v-160H400v160ZM180-400h160v-160H180v160Zm440 0h160v-160H620v160ZM180-180h160v-160H180v160Zm440 0h160v-160H620v160Z\"/>\n",
              "  </svg>\n",
              "    </button>\n",
              "\n",
              "  <style>\n",
              "    .colab-df-container {\n",
              "      display:flex;\n",
              "      gap: 12px;\n",
              "    }\n",
              "\n",
              "    .colab-df-convert {\n",
              "      background-color: #E8F0FE;\n",
              "      border: none;\n",
              "      border-radius: 50%;\n",
              "      cursor: pointer;\n",
              "      display: none;\n",
              "      fill: #1967D2;\n",
              "      height: 32px;\n",
              "      padding: 0 0 0 0;\n",
              "      width: 32px;\n",
              "    }\n",
              "\n",
              "    .colab-df-convert:hover {\n",
              "      background-color: #E2EBFA;\n",
              "      box-shadow: 0px 1px 2px rgba(60, 64, 67, 0.3), 0px 1px 3px 1px rgba(60, 64, 67, 0.15);\n",
              "      fill: #174EA6;\n",
              "    }\n",
              "\n",
              "    .colab-df-buttons div {\n",
              "      margin-bottom: 4px;\n",
              "    }\n",
              "\n",
              "    [theme=dark] .colab-df-convert {\n",
              "      background-color: #3B4455;\n",
              "      fill: #D2E3FC;\n",
              "    }\n",
              "\n",
              "    [theme=dark] .colab-df-convert:hover {\n",
              "      background-color: #434B5C;\n",
              "      box-shadow: 0px 1px 3px 1px rgba(0, 0, 0, 0.15);\n",
              "      filter: drop-shadow(0px 1px 2px rgba(0, 0, 0, 0.3));\n",
              "      fill: #FFFFFF;\n",
              "    }\n",
              "  </style>\n",
              "\n",
              "    <script>\n",
              "      const buttonEl =\n",
              "        document.querySelector('#df-5c28fb8b-ef36-4641-aad2-08399d44d6fb button.colab-df-convert');\n",
              "      buttonEl.style.display =\n",
              "        google.colab.kernel.accessAllowed ? 'block' : 'none';\n",
              "\n",
              "      async function convertToInteractive(key) {\n",
              "        const element = document.querySelector('#df-5c28fb8b-ef36-4641-aad2-08399d44d6fb');\n",
              "        const dataTable =\n",
              "          await google.colab.kernel.invokeFunction('convertToInteractive',\n",
              "                                                    [key], {});\n",
              "        if (!dataTable) return;\n",
              "\n",
              "        const docLinkHtml = 'Like what you see? Visit the ' +\n",
              "          '<a target=\"_blank\" href=https://colab.research.google.com/notebooks/data_table.ipynb>data table notebook</a>'\n",
              "          + ' to learn more about interactive tables.';\n",
              "        element.innerHTML = '';\n",
              "        dataTable['output_type'] = 'display_data';\n",
              "        await google.colab.output.renderOutput(dataTable, element);\n",
              "        const docLink = document.createElement('div');\n",
              "        docLink.innerHTML = docLinkHtml;\n",
              "        element.appendChild(docLink);\n",
              "      }\n",
              "    </script>\n",
              "  </div>\n",
              "\n",
              "\n",
              "<div id=\"df-0a197506-8a79-48b7-ae66-7fda92851dbf\">\n",
              "  <button class=\"colab-df-quickchart\" onclick=\"quickchart('df-0a197506-8a79-48b7-ae66-7fda92851dbf')\"\n",
              "            title=\"Suggest charts\"\n",
              "            style=\"display:none;\">\n",
              "\n",
              "<svg xmlns=\"http://www.w3.org/2000/svg\" height=\"24px\"viewBox=\"0 0 24 24\"\n",
              "     width=\"24px\">\n",
              "    <g>\n",
              "        <path d=\"M19 3H5c-1.1 0-2 .9-2 2v14c0 1.1.9 2 2 2h14c1.1 0 2-.9 2-2V5c0-1.1-.9-2-2-2zM9 17H7v-7h2v7zm4 0h-2V7h2v10zm4 0h-2v-4h2v4z\"/>\n",
              "    </g>\n",
              "</svg>\n",
              "  </button>\n",
              "\n",
              "<style>\n",
              "  .colab-df-quickchart {\n",
              "      --bg-color: #E8F0FE;\n",
              "      --fill-color: #1967D2;\n",
              "      --hover-bg-color: #E2EBFA;\n",
              "      --hover-fill-color: #174EA6;\n",
              "      --disabled-fill-color: #AAA;\n",
              "      --disabled-bg-color: #DDD;\n",
              "  }\n",
              "\n",
              "  [theme=dark] .colab-df-quickchart {\n",
              "      --bg-color: #3B4455;\n",
              "      --fill-color: #D2E3FC;\n",
              "      --hover-bg-color: #434B5C;\n",
              "      --hover-fill-color: #FFFFFF;\n",
              "      --disabled-bg-color: #3B4455;\n",
              "      --disabled-fill-color: #666;\n",
              "  }\n",
              "\n",
              "  .colab-df-quickchart {\n",
              "    background-color: var(--bg-color);\n",
              "    border: none;\n",
              "    border-radius: 50%;\n",
              "    cursor: pointer;\n",
              "    display: none;\n",
              "    fill: var(--fill-color);\n",
              "    height: 32px;\n",
              "    padding: 0;\n",
              "    width: 32px;\n",
              "  }\n",
              "\n",
              "  .colab-df-quickchart:hover {\n",
              "    background-color: var(--hover-bg-color);\n",
              "    box-shadow: 0 1px 2px rgba(60, 64, 67, 0.3), 0 1px 3px 1px rgba(60, 64, 67, 0.15);\n",
              "    fill: var(--button-hover-fill-color);\n",
              "  }\n",
              "\n",
              "  .colab-df-quickchart-complete:disabled,\n",
              "  .colab-df-quickchart-complete:disabled:hover {\n",
              "    background-color: var(--disabled-bg-color);\n",
              "    fill: var(--disabled-fill-color);\n",
              "    box-shadow: none;\n",
              "  }\n",
              "\n",
              "  .colab-df-spinner {\n",
              "    border: 2px solid var(--fill-color);\n",
              "    border-color: transparent;\n",
              "    border-bottom-color: var(--fill-color);\n",
              "    animation:\n",
              "      spin 1s steps(1) infinite;\n",
              "  }\n",
              "\n",
              "  @keyframes spin {\n",
              "    0% {\n",
              "      border-color: transparent;\n",
              "      border-bottom-color: var(--fill-color);\n",
              "      border-left-color: var(--fill-color);\n",
              "    }\n",
              "    20% {\n",
              "      border-color: transparent;\n",
              "      border-left-color: var(--fill-color);\n",
              "      border-top-color: var(--fill-color);\n",
              "    }\n",
              "    30% {\n",
              "      border-color: transparent;\n",
              "      border-left-color: var(--fill-color);\n",
              "      border-top-color: var(--fill-color);\n",
              "      border-right-color: var(--fill-color);\n",
              "    }\n",
              "    40% {\n",
              "      border-color: transparent;\n",
              "      border-right-color: var(--fill-color);\n",
              "      border-top-color: var(--fill-color);\n",
              "    }\n",
              "    60% {\n",
              "      border-color: transparent;\n",
              "      border-right-color: var(--fill-color);\n",
              "    }\n",
              "    80% {\n",
              "      border-color: transparent;\n",
              "      border-right-color: var(--fill-color);\n",
              "      border-bottom-color: var(--fill-color);\n",
              "    }\n",
              "    90% {\n",
              "      border-color: transparent;\n",
              "      border-bottom-color: var(--fill-color);\n",
              "    }\n",
              "  }\n",
              "</style>\n",
              "\n",
              "  <script>\n",
              "    async function quickchart(key) {\n",
              "      const quickchartButtonEl =\n",
              "        document.querySelector('#' + key + ' button');\n",
              "      quickchartButtonEl.disabled = true;  // To prevent multiple clicks.\n",
              "      quickchartButtonEl.classList.add('colab-df-spinner');\n",
              "      try {\n",
              "        const charts = await google.colab.kernel.invokeFunction(\n",
              "            'suggestCharts', [key], {});\n",
              "      } catch (error) {\n",
              "        console.error('Error during call to suggestCharts:', error);\n",
              "      }\n",
              "      quickchartButtonEl.classList.remove('colab-df-spinner');\n",
              "      quickchartButtonEl.classList.add('colab-df-quickchart-complete');\n",
              "    }\n",
              "    (() => {\n",
              "      let quickchartButtonEl =\n",
              "        document.querySelector('#df-0a197506-8a79-48b7-ae66-7fda92851dbf button');\n",
              "      quickchartButtonEl.style.display =\n",
              "        google.colab.kernel.accessAllowed ? 'block' : 'none';\n",
              "    })();\n",
              "  </script>\n",
              "</div>\n",
              "    </div>\n",
              "  </div>\n"
            ]
          },
          "metadata": {},
          "execution_count": 123
        }
      ]
    },
    {
      "cell_type": "markdown",
      "source": [
        "Nos desembarazamos de las columnas no elegidas en el proyecto anterior."
      ],
      "metadata": {
        "id": "I8cOLmxZxyQr"
      }
    },
    {
      "cell_type": "code",
      "source": [
        "X_motores = dstrain.drop(['carac_1','carac_2','carac_3','sensor_1','sensor_2','sensor_3','sensor_4','sensor_5','sensor_6','sensor_7','sensor_8','sensor_9','sensor_10'], axis=1)\n",
        "X_motores =X_motores.drop(['sensor_12','sensor_13','sensor_15','sensor_17','sensor_18','sensor_19','sensor_20','sensor_21','RUL'], axis=1)\n",
        "dstest =dstest.drop(['carac_1','carac_2','carac_3','sensor_1','sensor_2','sensor_3','sensor_4','sensor_5','sensor_6','sensor_7','sensor_8','sensor_9','sensor_10'], axis=1)\n",
        "dstest =dstest.drop(['sensor_12','sensor_13','sensor_15','sensor_17','sensor_18','sensor_19','sensor_20','sensor_21'], axis=1)\n",
        "\n",
        "dstest"
      ],
      "metadata": {
        "colab": {
          "base_uri": "https://localhost:8080/",
          "height": 424
        },
        "id": "5wsNu3xgxxRg",
        "outputId": "da2a5ba5-5b43-4faf-bbed-c9adda35dc75"
      },
      "execution_count": 159,
      "outputs": [
        {
          "output_type": "execute_result",
          "data": {
            "text/plain": [
              "       numero_unidad  ciclo_temporal  sensor_11  sensor_14  sensor_16  RUL\n",
              "0                  1               1      43.83    8048.98       0.02  229\n",
              "1                  1               2      36.11    7863.46       0.02  228\n",
              "2                  1               3      41.52    8071.13       0.02  227\n",
              "3                  1               4      41.73    8078.89       0.02  226\n",
              "4                  1               5      41.32    8057.83       0.02  225\n",
              "...              ...             ...        ...        ...        ...  ...\n",
              "41209            248             277      42.30    8112.61       0.02    4\n",
              "41210            248             278      44.53    8086.83       0.02    3\n",
              "41211            248             279      42.33    8100.84       0.02    2\n",
              "41212            248             280      44.78    8085.24       0.03    1\n",
              "41213            248             281      42.08    8098.17       0.02    0\n",
              "\n",
              "[41214 rows x 6 columns]"
            ],
            "text/html": [
              "\n",
              "  <div id=\"df-d0bf851c-7298-49d0-b9fc-973463d78cd6\" class=\"colab-df-container\">\n",
              "    <div>\n",
              "<style scoped>\n",
              "    .dataframe tbody tr th:only-of-type {\n",
              "        vertical-align: middle;\n",
              "    }\n",
              "\n",
              "    .dataframe tbody tr th {\n",
              "        vertical-align: top;\n",
              "    }\n",
              "\n",
              "    .dataframe thead th {\n",
              "        text-align: right;\n",
              "    }\n",
              "</style>\n",
              "<table border=\"1\" class=\"dataframe\">\n",
              "  <thead>\n",
              "    <tr style=\"text-align: right;\">\n",
              "      <th></th>\n",
              "      <th>numero_unidad</th>\n",
              "      <th>ciclo_temporal</th>\n",
              "      <th>sensor_11</th>\n",
              "      <th>sensor_14</th>\n",
              "      <th>sensor_16</th>\n",
              "      <th>RUL</th>\n",
              "    </tr>\n",
              "  </thead>\n",
              "  <tbody>\n",
              "    <tr>\n",
              "      <th>0</th>\n",
              "      <td>1</td>\n",
              "      <td>1</td>\n",
              "      <td>43.83</td>\n",
              "      <td>8048.98</td>\n",
              "      <td>0.02</td>\n",
              "      <td>229</td>\n",
              "    </tr>\n",
              "    <tr>\n",
              "      <th>1</th>\n",
              "      <td>1</td>\n",
              "      <td>2</td>\n",
              "      <td>36.11</td>\n",
              "      <td>7863.46</td>\n",
              "      <td>0.02</td>\n",
              "      <td>228</td>\n",
              "    </tr>\n",
              "    <tr>\n",
              "      <th>2</th>\n",
              "      <td>1</td>\n",
              "      <td>3</td>\n",
              "      <td>41.52</td>\n",
              "      <td>8071.13</td>\n",
              "      <td>0.02</td>\n",
              "      <td>227</td>\n",
              "    </tr>\n",
              "    <tr>\n",
              "      <th>3</th>\n",
              "      <td>1</td>\n",
              "      <td>4</td>\n",
              "      <td>41.73</td>\n",
              "      <td>8078.89</td>\n",
              "      <td>0.02</td>\n",
              "      <td>226</td>\n",
              "    </tr>\n",
              "    <tr>\n",
              "      <th>4</th>\n",
              "      <td>1</td>\n",
              "      <td>5</td>\n",
              "      <td>41.32</td>\n",
              "      <td>8057.83</td>\n",
              "      <td>0.02</td>\n",
              "      <td>225</td>\n",
              "    </tr>\n",
              "    <tr>\n",
              "      <th>...</th>\n",
              "      <td>...</td>\n",
              "      <td>...</td>\n",
              "      <td>...</td>\n",
              "      <td>...</td>\n",
              "      <td>...</td>\n",
              "      <td>...</td>\n",
              "    </tr>\n",
              "    <tr>\n",
              "      <th>41209</th>\n",
              "      <td>248</td>\n",
              "      <td>277</td>\n",
              "      <td>42.30</td>\n",
              "      <td>8112.61</td>\n",
              "      <td>0.02</td>\n",
              "      <td>4</td>\n",
              "    </tr>\n",
              "    <tr>\n",
              "      <th>41210</th>\n",
              "      <td>248</td>\n",
              "      <td>278</td>\n",
              "      <td>44.53</td>\n",
              "      <td>8086.83</td>\n",
              "      <td>0.02</td>\n",
              "      <td>3</td>\n",
              "    </tr>\n",
              "    <tr>\n",
              "      <th>41211</th>\n",
              "      <td>248</td>\n",
              "      <td>279</td>\n",
              "      <td>42.33</td>\n",
              "      <td>8100.84</td>\n",
              "      <td>0.02</td>\n",
              "      <td>2</td>\n",
              "    </tr>\n",
              "    <tr>\n",
              "      <th>41212</th>\n",
              "      <td>248</td>\n",
              "      <td>280</td>\n",
              "      <td>44.78</td>\n",
              "      <td>8085.24</td>\n",
              "      <td>0.03</td>\n",
              "      <td>1</td>\n",
              "    </tr>\n",
              "    <tr>\n",
              "      <th>41213</th>\n",
              "      <td>248</td>\n",
              "      <td>281</td>\n",
              "      <td>42.08</td>\n",
              "      <td>8098.17</td>\n",
              "      <td>0.02</td>\n",
              "      <td>0</td>\n",
              "    </tr>\n",
              "  </tbody>\n",
              "</table>\n",
              "<p>41214 rows × 6 columns</p>\n",
              "</div>\n",
              "    <div class=\"colab-df-buttons\">\n",
              "\n",
              "  <div class=\"colab-df-container\">\n",
              "    <button class=\"colab-df-convert\" onclick=\"convertToInteractive('df-d0bf851c-7298-49d0-b9fc-973463d78cd6')\"\n",
              "            title=\"Convert this dataframe to an interactive table.\"\n",
              "            style=\"display:none;\">\n",
              "\n",
              "  <svg xmlns=\"http://www.w3.org/2000/svg\" height=\"24px\" viewBox=\"0 -960 960 960\">\n",
              "    <path d=\"M120-120v-720h720v720H120Zm60-500h600v-160H180v160Zm220 220h160v-160H400v160Zm0 220h160v-160H400v160ZM180-400h160v-160H180v160Zm440 0h160v-160H620v160ZM180-180h160v-160H180v160Zm440 0h160v-160H620v160Z\"/>\n",
              "  </svg>\n",
              "    </button>\n",
              "\n",
              "  <style>\n",
              "    .colab-df-container {\n",
              "      display:flex;\n",
              "      gap: 12px;\n",
              "    }\n",
              "\n",
              "    .colab-df-convert {\n",
              "      background-color: #E8F0FE;\n",
              "      border: none;\n",
              "      border-radius: 50%;\n",
              "      cursor: pointer;\n",
              "      display: none;\n",
              "      fill: #1967D2;\n",
              "      height: 32px;\n",
              "      padding: 0 0 0 0;\n",
              "      width: 32px;\n",
              "    }\n",
              "\n",
              "    .colab-df-convert:hover {\n",
              "      background-color: #E2EBFA;\n",
              "      box-shadow: 0px 1px 2px rgba(60, 64, 67, 0.3), 0px 1px 3px 1px rgba(60, 64, 67, 0.15);\n",
              "      fill: #174EA6;\n",
              "    }\n",
              "\n",
              "    .colab-df-buttons div {\n",
              "      margin-bottom: 4px;\n",
              "    }\n",
              "\n",
              "    [theme=dark] .colab-df-convert {\n",
              "      background-color: #3B4455;\n",
              "      fill: #D2E3FC;\n",
              "    }\n",
              "\n",
              "    [theme=dark] .colab-df-convert:hover {\n",
              "      background-color: #434B5C;\n",
              "      box-shadow: 0px 1px 3px 1px rgba(0, 0, 0, 0.15);\n",
              "      filter: drop-shadow(0px 1px 2px rgba(0, 0, 0, 0.3));\n",
              "      fill: #FFFFFF;\n",
              "    }\n",
              "  </style>\n",
              "\n",
              "    <script>\n",
              "      const buttonEl =\n",
              "        document.querySelector('#df-d0bf851c-7298-49d0-b9fc-973463d78cd6 button.colab-df-convert');\n",
              "      buttonEl.style.display =\n",
              "        google.colab.kernel.accessAllowed ? 'block' : 'none';\n",
              "\n",
              "      async function convertToInteractive(key) {\n",
              "        const element = document.querySelector('#df-d0bf851c-7298-49d0-b9fc-973463d78cd6');\n",
              "        const dataTable =\n",
              "          await google.colab.kernel.invokeFunction('convertToInteractive',\n",
              "                                                    [key], {});\n",
              "        if (!dataTable) return;\n",
              "\n",
              "        const docLinkHtml = 'Like what you see? Visit the ' +\n",
              "          '<a target=\"_blank\" href=https://colab.research.google.com/notebooks/data_table.ipynb>data table notebook</a>'\n",
              "          + ' to learn more about interactive tables.';\n",
              "        element.innerHTML = '';\n",
              "        dataTable['output_type'] = 'display_data';\n",
              "        await google.colab.output.renderOutput(dataTable, element);\n",
              "        const docLink = document.createElement('div');\n",
              "        docLink.innerHTML = docLinkHtml;\n",
              "        element.appendChild(docLink);\n",
              "      }\n",
              "    </script>\n",
              "  </div>\n",
              "\n",
              "\n",
              "<div id=\"df-d0939731-ab0a-4ff2-9e5a-230ad8f21936\">\n",
              "  <button class=\"colab-df-quickchart\" onclick=\"quickchart('df-d0939731-ab0a-4ff2-9e5a-230ad8f21936')\"\n",
              "            title=\"Suggest charts\"\n",
              "            style=\"display:none;\">\n",
              "\n",
              "<svg xmlns=\"http://www.w3.org/2000/svg\" height=\"24px\"viewBox=\"0 0 24 24\"\n",
              "     width=\"24px\">\n",
              "    <g>\n",
              "        <path d=\"M19 3H5c-1.1 0-2 .9-2 2v14c0 1.1.9 2 2 2h14c1.1 0 2-.9 2-2V5c0-1.1-.9-2-2-2zM9 17H7v-7h2v7zm4 0h-2V7h2v10zm4 0h-2v-4h2v4z\"/>\n",
              "    </g>\n",
              "</svg>\n",
              "  </button>\n",
              "\n",
              "<style>\n",
              "  .colab-df-quickchart {\n",
              "      --bg-color: #E8F0FE;\n",
              "      --fill-color: #1967D2;\n",
              "      --hover-bg-color: #E2EBFA;\n",
              "      --hover-fill-color: #174EA6;\n",
              "      --disabled-fill-color: #AAA;\n",
              "      --disabled-bg-color: #DDD;\n",
              "  }\n",
              "\n",
              "  [theme=dark] .colab-df-quickchart {\n",
              "      --bg-color: #3B4455;\n",
              "      --fill-color: #D2E3FC;\n",
              "      --hover-bg-color: #434B5C;\n",
              "      --hover-fill-color: #FFFFFF;\n",
              "      --disabled-bg-color: #3B4455;\n",
              "      --disabled-fill-color: #666;\n",
              "  }\n",
              "\n",
              "  .colab-df-quickchart {\n",
              "    background-color: var(--bg-color);\n",
              "    border: none;\n",
              "    border-radius: 50%;\n",
              "    cursor: pointer;\n",
              "    display: none;\n",
              "    fill: var(--fill-color);\n",
              "    height: 32px;\n",
              "    padding: 0;\n",
              "    width: 32px;\n",
              "  }\n",
              "\n",
              "  .colab-df-quickchart:hover {\n",
              "    background-color: var(--hover-bg-color);\n",
              "    box-shadow: 0 1px 2px rgba(60, 64, 67, 0.3), 0 1px 3px 1px rgba(60, 64, 67, 0.15);\n",
              "    fill: var(--button-hover-fill-color);\n",
              "  }\n",
              "\n",
              "  .colab-df-quickchart-complete:disabled,\n",
              "  .colab-df-quickchart-complete:disabled:hover {\n",
              "    background-color: var(--disabled-bg-color);\n",
              "    fill: var(--disabled-fill-color);\n",
              "    box-shadow: none;\n",
              "  }\n",
              "\n",
              "  .colab-df-spinner {\n",
              "    border: 2px solid var(--fill-color);\n",
              "    border-color: transparent;\n",
              "    border-bottom-color: var(--fill-color);\n",
              "    animation:\n",
              "      spin 1s steps(1) infinite;\n",
              "  }\n",
              "\n",
              "  @keyframes spin {\n",
              "    0% {\n",
              "      border-color: transparent;\n",
              "      border-bottom-color: var(--fill-color);\n",
              "      border-left-color: var(--fill-color);\n",
              "    }\n",
              "    20% {\n",
              "      border-color: transparent;\n",
              "      border-left-color: var(--fill-color);\n",
              "      border-top-color: var(--fill-color);\n",
              "    }\n",
              "    30% {\n",
              "      border-color: transparent;\n",
              "      border-left-color: var(--fill-color);\n",
              "      border-top-color: var(--fill-color);\n",
              "      border-right-color: var(--fill-color);\n",
              "    }\n",
              "    40% {\n",
              "      border-color: transparent;\n",
              "      border-right-color: var(--fill-color);\n",
              "      border-top-color: var(--fill-color);\n",
              "    }\n",
              "    60% {\n",
              "      border-color: transparent;\n",
              "      border-right-color: var(--fill-color);\n",
              "    }\n",
              "    80% {\n",
              "      border-color: transparent;\n",
              "      border-right-color: var(--fill-color);\n",
              "      border-bottom-color: var(--fill-color);\n",
              "    }\n",
              "    90% {\n",
              "      border-color: transparent;\n",
              "      border-bottom-color: var(--fill-color);\n",
              "    }\n",
              "  }\n",
              "</style>\n",
              "\n",
              "  <script>\n",
              "    async function quickchart(key) {\n",
              "      const quickchartButtonEl =\n",
              "        document.querySelector('#' + key + ' button');\n",
              "      quickchartButtonEl.disabled = true;  // To prevent multiple clicks.\n",
              "      quickchartButtonEl.classList.add('colab-df-spinner');\n",
              "      try {\n",
              "        const charts = await google.colab.kernel.invokeFunction(\n",
              "            'suggestCharts', [key], {});\n",
              "      } catch (error) {\n",
              "        console.error('Error during call to suggestCharts:', error);\n",
              "      }\n",
              "      quickchartButtonEl.classList.remove('colab-df-spinner');\n",
              "      quickchartButtonEl.classList.add('colab-df-quickchart-complete');\n",
              "    }\n",
              "    (() => {\n",
              "      let quickchartButtonEl =\n",
              "        document.querySelector('#df-d0939731-ab0a-4ff2-9e5a-230ad8f21936 button');\n",
              "      quickchartButtonEl.style.display =\n",
              "        google.colab.kernel.accessAllowed ? 'block' : 'none';\n",
              "    })();\n",
              "  </script>\n",
              "</div>\n",
              "    </div>\n",
              "  </div>\n"
            ]
          },
          "metadata": {},
          "execution_count": 159
        }
      ]
    },
    {
      "cell_type": "markdown",
      "source": [
        "Entreno el modelo LinearRegression, para predecir los valores"
      ],
      "metadata": {
        "id": "8QO_eQJtxxdf"
      }
    },
    {
      "cell_type": "code",
      "source": [
        "y_motores = dstrain['RUL']\n",
        "\n",
        "# Creamos el modelo\n",
        "linear = LinearRegression()\n",
        "\n",
        "# Entrenamos el modelo\n",
        "linear.fit(X_motores, y_motores)\n",
        "y_test = dstest['RUL']\n",
        "dstest =dstest.drop(['RUL'], axis=1)\n",
        "pred = linear.predict(dstest)"
      ],
      "metadata": {
        "id": "V22KbULH2vIp"
      },
      "execution_count": 160,
      "outputs": []
    },
    {
      "cell_type": "markdown",
      "source": [
        "Obtenemos la calidad de los resultados obtenidos, mediante las métricas MSE, MAE y MAPE"
      ],
      "metadata": {
        "id": "m9rJ22nvNFdj"
      }
    },
    {
      "cell_type": "code",
      "source": [
        "# Evaluación\n",
        "\n",
        "print('MSE : %.2f' % metrics.mean_squared_error(pred,y_test))\n",
        "print('MAE : %.2f' % metrics.mean_absolute_error (pred,y_test))\n",
        "print('MAPE: %.2f' % metrics.mean_absolute_percentage_error(pred, y_test))"
      ],
      "metadata": {
        "colab": {
          "base_uri": "https://localhost:8080/"
        },
        "id": "5nM3ThGLNFVE",
        "outputId": "641211df-e0e5-4813-c856-c78e32e21c4f"
      },
      "execution_count": 132,
      "outputs": [
        {
          "output_type": "stream",
          "name": "stdout",
          "text": [
            "MSE : 8445.18\n",
            "MAE : 77.63\n",
            "MAPE: 0.80\n"
          ]
        }
      ]
    },
    {
      "cell_type": "markdown",
      "source": [
        "Aplico KNeighborsRegressor"
      ],
      "metadata": {
        "id": "NXLtTY-uH4ix"
      }
    },
    {
      "cell_type": "code",
      "source": [
        "MSE_minimo=200\n",
        "MAE_minimo=10\n",
        "MAPE_minimo=2\n",
        "for k in range(1,15):\n",
        "  w = \"distance\"\n",
        "\n",
        "  # 1. elegir regresor\n",
        "  from sklearn.neighbors import KNeighborsRegressor\n",
        "  # 2. instanciar el modelo\n",
        "  regr = KNeighborsRegressor(k, weights=w)\n",
        "  # 3. entrenamiento con los datos\n",
        "  regr.fit(X_motores, y_motores)\n",
        "  # 4. predicción con nuevos datos\n",
        "  pred = regr.predict(dstest)\n",
        "  if metrics.mean_squared_error(pred,y_test)<MSE_minimo:\n",
        "    MSE_minimo=metrics.mean_squared_error(pred,y_test)\n",
        "    print ('MSE minimo con %i vecinos, %2f' %(k,MSE_minimo))\n",
        "  if metrics.mean_absolute_error (pred,y_test)<MAE_minimo:\n",
        "    MAE_minimo=metrics.mean_absolute_error (pred,y_test)\n",
        "    print ('MAE minimo con %i vecinos, %2f' %(k,MAE_minimo))\n",
        "  if metrics.mean_absolute_percentage_error(pred, y_test)<MAPE_minimo:\n",
        "    MAPE_minimo=metrics.mean_absolute_percentage_error(pred, y_test)\n",
        "    print ('MAPE minimo con %i vecinos, %2f' %(k,MAPE_minimo))\n"
      ],
      "metadata": {
        "id": "NU74ffaRH4YJ",
        "colab": {
          "base_uri": "https://localhost:8080/"
        },
        "outputId": "a5ca5736-d9ac-436a-bc9d-d618ce2e5398"
      },
      "execution_count": 133,
      "outputs": [
        {
          "output_type": "stream",
          "name": "stdout",
          "text": [
            "MAPE minimo con 4 vecinos, 0.686434\n",
            "MAPE minimo con 5 vecinos, 0.653301\n",
            "MAPE minimo con 6 vecinos, 0.632416\n",
            "MAPE minimo con 7 vecinos, 0.617137\n",
            "MAPE minimo con 8 vecinos, 0.608290\n",
            "MAPE minimo con 9 vecinos, 0.600128\n",
            "MAPE minimo con 10 vecinos, 0.594717\n",
            "MAPE minimo con 11 vecinos, 0.589883\n",
            "MAPE minimo con 12 vecinos, 0.585761\n",
            "MAPE minimo con 13 vecinos, 0.582308\n",
            "MAPE minimo con 14 vecinos, 0.578831\n"
          ]
        }
      ]
    },
    {
      "cell_type": "markdown",
      "source": [
        "Obtengo valores minimos para k=12 y w='distance'"
      ],
      "metadata": {
        "id": "7en1HGCtUPYq"
      }
    },
    {
      "cell_type": "code",
      "source": [
        "k=14\n",
        "w = \"distance\"\n",
        "\n",
        "# 1. elegir regresor\n",
        "from sklearn.neighbors import KNeighborsRegressor\n",
        "# 2. instanciar el modelo\n",
        "regr = KNeighborsRegressor(k, weights=w)\n",
        "# 3. entrenamiento con los datos\n",
        "regr.fit(X_motores, y_motores)\n",
        "# 4. predicción con nuevos datos\n",
        "pred = regr.predict(dstest)\n",
        "MSE=metrics.mean_squared_error(pred,y_test)\n",
        "print ('MSE : %2f' %(MSE))\n",
        "MAE=metrics.mean_absolute_error (pred,y_test)\n",
        "print ('MAE : %2f' %(MAE))\n",
        "MAPE=metrics.mean_absolute_percentage_error(pred, y_test)\n",
        "print ('MAPE: %2f' %(MAPE))\n"
      ],
      "metadata": {
        "colab": {
          "base_uri": "https://localhost:8080/"
        },
        "id": "YOitcXL9UPQS",
        "outputId": "2cc2664f-3fbc-4d6f-be95-c91b204ed439"
      },
      "execution_count": 135,
      "outputs": [
        {
          "output_type": "stream",
          "name": "stdout",
          "text": [
            "MSE : 10079.936404\n",
            "MAE : 81.980176\n",
            "MAPE: 0.578831\n"
          ]
        }
      ]
    },
    {
      "cell_type": "markdown",
      "source": [
        "Entreno el modelo de árbol de decisiones\n"
      ],
      "metadata": {
        "id": "qYG_MiCtb1wa"
      }
    },
    {
      "cell_type": "code",
      "source": [
        "dec_tree = DecisionTreeRegressor()\n",
        "# Entrenar el modelo\n",
        "dec_tree.fit(X_motores, y_motores)\n",
        "pred = dec_tree.predict(dstest)\n",
        "MSE=metrics.mean_squared_error(pred,y_test)\n",
        "print ('MSE : %2f' %(MSE))\n",
        "MAE=metrics.mean_absolute_error (pred,y_test)\n",
        "print ('MAE : %2f' %(MAE))\n",
        "MAPE=metrics.mean_absolute_percentage_error(pred, y_test)\n",
        "print ('MAPE: %2f' %(MAPE))\n",
        "\n"
      ],
      "metadata": {
        "colab": {
          "base_uri": "https://localhost:8080/"
        },
        "id": "e82ogweybvVV",
        "outputId": "34e55f22-a065-4160-dd12-c9bdedb3d736"
      },
      "execution_count": 136,
      "outputs": [
        {
          "output_type": "stream",
          "name": "stdout",
          "text": [
            "MSE : 12618.092590\n",
            "MAE : 86.987237\n",
            "MAPE: 3496753241031.693848\n"
          ]
        }
      ]
    },
    {
      "cell_type": "markdown",
      "source": [
        "Método para entrenar un modelo con cross validation, e inferir el número de splits óptimo, en los que se han de partir los datos para obtener mejores resultados."
      ],
      "metadata": {
        "id": "sZRmAzIfwOpX"
      }
    },
    {
      "cell_type": "code",
      "source": [
        "def entrenar_CV(modelo):\n",
        "  splits=[]\n",
        "  acu_cv=[]\n",
        "  mse_cv=[]\n",
        "  mae_cv=[]\n",
        "  mape_cv=[]\n",
        "  mape_min=[120,1]\n",
        "  s_inicio=2\n",
        "  s_fin=101\n",
        "  t_inicio=time.time()\n",
        "  for i in range(s_inicio, s_fin):\n",
        "    #Divide los datos en n_splits partes, de manera aleatoria (shuffle)\n",
        "    if i%10 ==0:\n",
        "      completado=((i-s_inicio)*100)/(s_fin-s_inicio)\n",
        "      t_transcurrido=time.time()-t_inicio\n",
        "      t_estimado = (t_transcurrido *100/completado ) - t_transcurrido\n",
        "      print(i,' splits', completado  ,' % completado')\n",
        "      print('tiempo transcurrido %2f' % (t_transcurrido/60))\n",
        "      print('tiempo estimado %2f' % (t_estimado/60))\n",
        "    cv = KFold(n_splits = i, shuffle = True)\n",
        "    splits.append(i)\n",
        "\n",
        "    scores = sklearn.model_selection.cross_val_score(modelo, X_motores, y_motores, cv=cv)\n",
        "    mae  = sklearn.model_selection.cross_val_score(modelo, X_motores, y_motores,scoring=\"neg_mean_absolute_error\", cv=cv)\n",
        "    mse  = sklearn.model_selection.cross_val_score(modelo, X_motores, y_motores,scoring=\"neg_mean_squared_error\", cv=cv)\n",
        "    mape = sklearn.model_selection.cross_val_score(modelo, X_motores, y_motores,scoring=\"neg_mean_absolute_percentage_error\", cv=cv)\n",
        "\n",
        "    acu_cv.append(scores.mean())\n",
        "    mse_cv.append(mse.mean())\n",
        "    mae_cv.append(mae.mean())\n",
        "    mape_cv.append(mape.mean())\n",
        "    if mape.mean()<mape_min[1]:\n",
        "      mape_min=[i,mape.mean()]\n",
        "      print('mape minimo encontrado para %d splits' %i)\n",
        "\n",
        "  return splits,acu_cv, mse_cv, mae_cv, mape_cv\n",
        ""
      ],
      "metadata": {
        "id": "jNNftA14wOe_"
      },
      "execution_count": 43,
      "outputs": []
    },
    {
      "cell_type": "code",
      "source": [
        "def representa_entrenamiento_modelo(modelo,splits, acu_cv, mse_cv, mae_cv, mape_cv):\n",
        "  if modelo==linear: #el modelo a entrenar es el LinearRegression\n",
        "  #   print('Resultados de entrenamiento de LinearRegression')\n",
        "    plt.title(\"Métricas de Error obtenidas del proceso de cross validation aplicado a LinearRegression\",)\n",
        "  elif modelo==dec_tree:\n",
        "    plt.title(\"Métricas de Error obtenidas del proceso de cross validation aplicado a DecisionTreeRegressor\",)\n",
        "  else:\n",
        "    #  print('Resultados de entrenamiento de KNNRegressor')\n",
        "    plt.title(\"Métricas de Error obtenidas del proceso de cross validation aplicado a KNNRegressor\")\n",
        "\n",
        "\n",
        "  plt.xlabel(\"Splits\")\n",
        "  plt.plot(splits, acu_cv, color=\"red\")\n",
        "  plt.ylabel(\"Accuracy\")\n",
        "  plt.show()\n",
        "\n",
        "  plt.plot(splits, mse_cv   , color=\"green\")\n",
        "  plt.ylabel(\"MSE\")\n",
        "  plt.show()\n",
        "\n",
        "  plt.plot(splits, mae_cv  , color=\"blue\")\n",
        "  plt.ylabel(\"MAE\")\n",
        "  plt.show()\n",
        "\n",
        "  plt.plot(splits, mape_cv  , color=\"yellow\")\n",
        "  plt.ylabel(\"MAPE\")\n",
        "  plt.show()"
      ],
      "metadata": {
        "id": "cDssVJk7euhz"
      },
      "execution_count": 24,
      "outputs": []
    },
    {
      "cell_type": "markdown",
      "source": [
        "Entreno los modelos LinearRegression y KNNRegressor, con cross validation y represento los valores, para elegir con cuántos splits deben entrenarse\n"
      ],
      "metadata": {
        "id": "eSILAVQtwcHH"
      }
    },
    {
      "cell_type": "code",
      "source": [
        "l_splits,l_acu_cv,l_mse_cv,l_mae_cv, l_mape_cv=entrenar_CV(dec_tree)\n",
        "representa_entrenamiento_modelo(dec_tree,l_splits,l_acu_cv,l_mse_cv,l_mae_cv, l_mape_cv )\n",
        "\n"
      ],
      "metadata": {
        "colab": {
          "base_uri": "https://localhost:8080/",
          "height": 1000
        },
        "id": "PL53dF-ywb9f",
        "outputId": "949c5c73-f827-4634-a58f-214e885f75b6"
      },
      "execution_count": 140,
      "outputs": [
        {
          "output_type": "stream",
          "name": "stdout",
          "text": [
            "mape minimo encontrado para 2 splits\n",
            "mape minimo encontrado para 3 splits\n",
            "mape minimo encontrado para 4 splits\n",
            "10  splits 8.080808080808081  % completado\n",
            "tiempo transcurrido 0.980768\n",
            "tiempo estimado 11.156239\n",
            "mape minimo encontrado para 19 splits\n",
            "20  splits 18.181818181818183  % completado\n",
            "tiempo transcurrido 4.559355\n",
            "tiempo estimado 20.517099\n",
            "30  splits 28.282828282828284  % completado\n",
            "tiempo transcurrido 10.740472\n",
            "tiempo estimado 27.234769\n",
            "40  splits 38.38383838383838  % completado\n",
            "tiempo transcurrido 19.560375\n",
            "tiempo estimado 31.399549\n",
            "50  splits 48.484848484848484  % completado\n",
            "tiempo transcurrido 31.010849\n",
            "tiempo estimado 32.949027\n",
            "60  splits 58.58585858585859  % completado\n",
            "tiempo transcurrido 45.087705\n",
            "tiempo estimado 31.872343\n",
            "70  splits 68.68686868686869  % completado\n",
            "tiempo transcurrido 61.713338\n",
            "tiempo estimado 28.134022\n",
            "80  splits 78.78787878787878  % completado\n",
            "tiempo transcurrido 80.977169\n",
            "tiempo estimado 21.801546\n",
            "90  splits 88.88888888888889  % completado\n",
            "tiempo transcurrido 103.298686\n",
            "tiempo estimado 12.912336\n",
            "100  splits 98.98989898989899  % completado\n",
            "tiempo transcurrido 127.848353\n",
            "tiempo estimado 1.304575\n"
          ]
        },
        {
          "output_type": "display_data",
          "data": {
            "text/plain": [
              "<Figure size 640x480 with 1 Axes>"
            ],
            "image/png": "[encoded data removed]"
          },
          "metadata": {}
        },
        {
          "output_type": "display_data",
          "data": {
            "text/plain": [
              "<Figure size 640x480 with 1 Axes>"
            ],
            "image/png": "[encoded data removed]"
          },
          "metadata": {}
        },
        {
          "output_type": "display_data",
          "data": {
            "text/plain": [
              "<Figure size 640x480 with 1 Axes>"
            ],
            "image/png": "[encoded data removed]"
          },
          "metadata": {}
        },
        {
          "output_type": "display_data",
          "data": {
            "text/plain": [
              "<Figure size 640x480 with 1 Axes>"
            ],
            "image/png": "[encoded data removed]"
          },
          "metadata": {}
        }
      ]
    },
    {
      "cell_type": "markdown",
      "source": [
        "Método para entrenar modelos con cross validation y s splits"
      ],
      "metadata": {
        "id": "gU7wVnGtJfka"
      }
    },
    {
      "cell_type": "code",
      "source": [
        "def cv_modelo (modelo,s):\n",
        "  cv = KFold(n_splits = s, shuffle = True)\n",
        "  cv_mape=[]\n",
        "  for cv_train, cv_test in cv.split(X_motores):\n",
        "    # Sacamos la información de X y de Y, según las medidas dadas por la separación Kfold\n",
        "    cv_train_x = df_motores.iloc[cv_train]\n",
        "    cv_train_y = y_motores.iloc[cv_train]\n",
        "\n",
        "    # vamos entrenando los modelos\n",
        "    modelo.fit(cv_train_x, cv_train_y)\n",
        "    #guardo el predict de cada modelo\n",
        "    y_pred = modelo.predict(df_motores.iloc[cv_test])\n",
        "    y_np=y_motores.iloc[cv_test].values\n",
        "    mape = metrics.mean_absolute_percentage_error(  y_pred,y_np)\n",
        "    cv_mape.append(mape)\n",
        "  #guardo la media de los mapes, para cada split\n",
        "  media_mape=sum(cv_mape)/len(cv_mape)\n",
        "  #recorro los clasificadores y voy mostrando la precision por cada uno de ellos\n",
        "  print (\"MAPE medio: = %.4f para %d splits\" %  (media_mape,s ))"
      ],
      "metadata": {
        "id": "bGLbl1_JJfV4"
      },
      "execution_count": 161,
      "outputs": []
    },
    {
      "cell_type": "markdown",
      "source": [
        "Voy entrenando los modelos y obteniendo los valores de MAPE, para cada uno de ellos"
      ],
      "metadata": {
        "id": "cYuN-NyrKLFl"
      }
    },
    {
      "cell_type": "code",
      "source": [
        "# cv_modelo (linear,5)\n",
        "#cv_modelo (regr,2)\n",
        "cv_modelo (dec_tree,19)"
      ],
      "metadata": {
        "colab": {
          "base_uri": "https://localhost:8080/"
        },
        "id": "nHZB38HyKK8X",
        "outputId": "a9de87dc-255c-4927-964a-f96e6950502b"
      },
      "execution_count": 162,
      "outputs": [
        {
          "output_type": "stream",
          "name": "stdout",
          "text": [
            "MAPE medio: = 150813993763705.4062 para 19 splits\n"
          ]
        }
      ]
    },
    {
      "cell_type": "markdown",
      "source": [
        "Guardar el modelo en un fichero.pkl"
      ],
      "metadata": {
        "id": "eykr8ANQzxnX"
      }
    },
    {
      "cell_type": "code",
      "source": [
        "# Para exportar el modelo a un fichero\n",
        "joblib.dump(dec_tree,'MotoresNasa.pkl')\n"
      ],
      "metadata": {
        "colab": {
          "base_uri": "https://localhost:8080/"
        },
        "id": "CU9wGbx8794e",
        "outputId": "afde8a8f-9998-48da-fe9f-69eff9a38088"
      },
      "execution_count": 163,
      "outputs": [
        {
          "output_type": "execute_result",
          "data": {
            "text/plain": [
              "['MotoresNasa.pkl']"
            ]
          },
          "metadata": {},
          "execution_count": 163
        }
      ]
    },
    {
      "cell_type": "markdown",
      "source": [
        "Prueba de predicción del modelo, después de importado"
      ],
      "metadata": {
        "id": "7Hiz_CPqLUn4"
      }
    },
    {
      "cell_type": "code",
      "source": [
        "model = joblib.load(\"MotoresNasa.pkl\")\n",
        "\n",
        "\n",
        "# df = dstest.drop(labels=dstest.columns[-1], axis=1)\n",
        "\n",
        "pred = model.predict([[1, 5, 41.32, 8057.83, 0.02]])\n",
        "print(pred)\n"
      ],
      "metadata": {
        "colab": {
          "base_uri": "https://localhost:8080/"
        },
        "id": "Ofney4oqLUde",
        "outputId": "12793e1f-993d-4d12-f12a-2288617a86dc"
      },
      "execution_count": 165,
      "outputs": [
        {
          "output_type": "stream",
          "name": "stdout",
          "text": [
            "[315.]\n"
          ]
        }
      ]
    }
  ]
}